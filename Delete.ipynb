{
  "nbformat": 4,
  "nbformat_minor": 0,
  "metadata": {
    "colab": {
      "provenance": []
    },
    "kernelspec": {
      "name": "python3",
      "display_name": "Python 3"
    },
    "language_info": {
      "name": "python"
    },
    "widgets": {
      "application/vnd.jupyter.widget-state+json": {
        "7703f074884d4899b3767ab08f17afa8": {
          "model_module": "@jupyter-widgets/controls",
          "model_name": "HBoxModel",
          "model_module_version": "1.5.0",
          "state": {
            "_dom_classes": [],
            "_model_module": "@jupyter-widgets/controls",
            "_model_module_version": "1.5.0",
            "_model_name": "HBoxModel",
            "_view_count": null,
            "_view_module": "@jupyter-widgets/controls",
            "_view_module_version": "1.5.0",
            "_view_name": "HBoxView",
            "box_style": "",
            "children": [
              "IPY_MODEL_410e858e017b459e8a7d7c5e9628c8f3",
              "IPY_MODEL_d7e0ad361fcb45eb82daf3b2bd5e4130",
              "IPY_MODEL_1aae0469f522434681efde4bc2add705"
            ],
            "layout": "IPY_MODEL_569101c5e0ef4f43b30997431fbb0408"
          }
        },
        "410e858e017b459e8a7d7c5e9628c8f3": {
          "model_module": "@jupyter-widgets/controls",
          "model_name": "HTMLModel",
          "model_module_version": "1.5.0",
          "state": {
            "_dom_classes": [],
            "_model_module": "@jupyter-widgets/controls",
            "_model_module_version": "1.5.0",
            "_model_name": "HTMLModel",
            "_view_count": null,
            "_view_module": "@jupyter-widgets/controls",
            "_view_module_version": "1.5.0",
            "_view_name": "HTMLView",
            "description": "",
            "description_tooltip": null,
            "layout": "IPY_MODEL_a6f50ca1cc1444eca23a9fb17fbfb49c",
            "placeholder": "​",
            "style": "IPY_MODEL_e1e8bb5277f54a429e4b5c36f95ee76e",
            "value": "tokenizer_config.json: 100%"
          }
        },
        "d7e0ad361fcb45eb82daf3b2bd5e4130": {
          "model_module": "@jupyter-widgets/controls",
          "model_name": "FloatProgressModel",
          "model_module_version": "1.5.0",
          "state": {
            "_dom_classes": [],
            "_model_module": "@jupyter-widgets/controls",
            "_model_module_version": "1.5.0",
            "_model_name": "FloatProgressModel",
            "_view_count": null,
            "_view_module": "@jupyter-widgets/controls",
            "_view_module_version": "1.5.0",
            "_view_name": "ProgressView",
            "bar_style": "success",
            "description": "",
            "description_tooltip": null,
            "layout": "IPY_MODEL_57651cf9c2474e74860784581ca497ab",
            "max": 26,
            "min": 0,
            "orientation": "horizontal",
            "style": "IPY_MODEL_2f61fb0f6ced469ebc97fa0e76fdaf15",
            "value": 26
          }
        },
        "1aae0469f522434681efde4bc2add705": {
          "model_module": "@jupyter-widgets/controls",
          "model_name": "HTMLModel",
          "model_module_version": "1.5.0",
          "state": {
            "_dom_classes": [],
            "_model_module": "@jupyter-widgets/controls",
            "_model_module_version": "1.5.0",
            "_model_name": "HTMLModel",
            "_view_count": null,
            "_view_module": "@jupyter-widgets/controls",
            "_view_module_version": "1.5.0",
            "_view_name": "HTMLView",
            "description": "",
            "description_tooltip": null,
            "layout": "IPY_MODEL_35fe78b3c3df4e7480e17c2bcffbd1f3",
            "placeholder": "​",
            "style": "IPY_MODEL_51b5269b89a94309a97738356c17ae44",
            "value": " 26.0/26.0 [00:00&lt;00:00, 1.42kB/s]"
          }
        },
        "569101c5e0ef4f43b30997431fbb0408": {
          "model_module": "@jupyter-widgets/base",
          "model_name": "LayoutModel",
          "model_module_version": "1.2.0",
          "state": {
            "_model_module": "@jupyter-widgets/base",
            "_model_module_version": "1.2.0",
            "_model_name": "LayoutModel",
            "_view_count": null,
            "_view_module": "@jupyter-widgets/base",
            "_view_module_version": "1.2.0",
            "_view_name": "LayoutView",
            "align_content": null,
            "align_items": null,
            "align_self": null,
            "border": null,
            "bottom": null,
            "display": null,
            "flex": null,
            "flex_flow": null,
            "grid_area": null,
            "grid_auto_columns": null,
            "grid_auto_flow": null,
            "grid_auto_rows": null,
            "grid_column": null,
            "grid_gap": null,
            "grid_row": null,
            "grid_template_areas": null,
            "grid_template_columns": null,
            "grid_template_rows": null,
            "height": null,
            "justify_content": null,
            "justify_items": null,
            "left": null,
            "margin": null,
            "max_height": null,
            "max_width": null,
            "min_height": null,
            "min_width": null,
            "object_fit": null,
            "object_position": null,
            "order": null,
            "overflow": null,
            "overflow_x": null,
            "overflow_y": null,
            "padding": null,
            "right": null,
            "top": null,
            "visibility": null,
            "width": null
          }
        },
        "a6f50ca1cc1444eca23a9fb17fbfb49c": {
          "model_module": "@jupyter-widgets/base",
          "model_name": "LayoutModel",
          "model_module_version": "1.2.0",
          "state": {
            "_model_module": "@jupyter-widgets/base",
            "_model_module_version": "1.2.0",
            "_model_name": "LayoutModel",
            "_view_count": null,
            "_view_module": "@jupyter-widgets/base",
            "_view_module_version": "1.2.0",
            "_view_name": "LayoutView",
            "align_content": null,
            "align_items": null,
            "align_self": null,
            "border": null,
            "bottom": null,
            "display": null,
            "flex": null,
            "flex_flow": null,
            "grid_area": null,
            "grid_auto_columns": null,
            "grid_auto_flow": null,
            "grid_auto_rows": null,
            "grid_column": null,
            "grid_gap": null,
            "grid_row": null,
            "grid_template_areas": null,
            "grid_template_columns": null,
            "grid_template_rows": null,
            "height": null,
            "justify_content": null,
            "justify_items": null,
            "left": null,
            "margin": null,
            "max_height": null,
            "max_width": null,
            "min_height": null,
            "min_width": null,
            "object_fit": null,
            "object_position": null,
            "order": null,
            "overflow": null,
            "overflow_x": null,
            "overflow_y": null,
            "padding": null,
            "right": null,
            "top": null,
            "visibility": null,
            "width": null
          }
        },
        "e1e8bb5277f54a429e4b5c36f95ee76e": {
          "model_module": "@jupyter-widgets/controls",
          "model_name": "DescriptionStyleModel",
          "model_module_version": "1.5.0",
          "state": {
            "_model_module": "@jupyter-widgets/controls",
            "_model_module_version": "1.5.0",
            "_model_name": "DescriptionStyleModel",
            "_view_count": null,
            "_view_module": "@jupyter-widgets/base",
            "_view_module_version": "1.2.0",
            "_view_name": "StyleView",
            "description_width": ""
          }
        },
        "57651cf9c2474e74860784581ca497ab": {
          "model_module": "@jupyter-widgets/base",
          "model_name": "LayoutModel",
          "model_module_version": "1.2.0",
          "state": {
            "_model_module": "@jupyter-widgets/base",
            "_model_module_version": "1.2.0",
            "_model_name": "LayoutModel",
            "_view_count": null,
            "_view_module": "@jupyter-widgets/base",
            "_view_module_version": "1.2.0",
            "_view_name": "LayoutView",
            "align_content": null,
            "align_items": null,
            "align_self": null,
            "border": null,
            "bottom": null,
            "display": null,
            "flex": null,
            "flex_flow": null,
            "grid_area": null,
            "grid_auto_columns": null,
            "grid_auto_flow": null,
            "grid_auto_rows": null,
            "grid_column": null,
            "grid_gap": null,
            "grid_row": null,
            "grid_template_areas": null,
            "grid_template_columns": null,
            "grid_template_rows": null,
            "height": null,
            "justify_content": null,
            "justify_items": null,
            "left": null,
            "margin": null,
            "max_height": null,
            "max_width": null,
            "min_height": null,
            "min_width": null,
            "object_fit": null,
            "object_position": null,
            "order": null,
            "overflow": null,
            "overflow_x": null,
            "overflow_y": null,
            "padding": null,
            "right": null,
            "top": null,
            "visibility": null,
            "width": null
          }
        },
        "2f61fb0f6ced469ebc97fa0e76fdaf15": {
          "model_module": "@jupyter-widgets/controls",
          "model_name": "ProgressStyleModel",
          "model_module_version": "1.5.0",
          "state": {
            "_model_module": "@jupyter-widgets/controls",
            "_model_module_version": "1.5.0",
            "_model_name": "ProgressStyleModel",
            "_view_count": null,
            "_view_module": "@jupyter-widgets/base",
            "_view_module_version": "1.2.0",
            "_view_name": "StyleView",
            "bar_color": null,
            "description_width": ""
          }
        },
        "35fe78b3c3df4e7480e17c2bcffbd1f3": {
          "model_module": "@jupyter-widgets/base",
          "model_name": "LayoutModel",
          "model_module_version": "1.2.0",
          "state": {
            "_model_module": "@jupyter-widgets/base",
            "_model_module_version": "1.2.0",
            "_model_name": "LayoutModel",
            "_view_count": null,
            "_view_module": "@jupyter-widgets/base",
            "_view_module_version": "1.2.0",
            "_view_name": "LayoutView",
            "align_content": null,
            "align_items": null,
            "align_self": null,
            "border": null,
            "bottom": null,
            "display": null,
            "flex": null,
            "flex_flow": null,
            "grid_area": null,
            "grid_auto_columns": null,
            "grid_auto_flow": null,
            "grid_auto_rows": null,
            "grid_column": null,
            "grid_gap": null,
            "grid_row": null,
            "grid_template_areas": null,
            "grid_template_columns": null,
            "grid_template_rows": null,
            "height": null,
            "justify_content": null,
            "justify_items": null,
            "left": null,
            "margin": null,
            "max_height": null,
            "max_width": null,
            "min_height": null,
            "min_width": null,
            "object_fit": null,
            "object_position": null,
            "order": null,
            "overflow": null,
            "overflow_x": null,
            "overflow_y": null,
            "padding": null,
            "right": null,
            "top": null,
            "visibility": null,
            "width": null
          }
        },
        "51b5269b89a94309a97738356c17ae44": {
          "model_module": "@jupyter-widgets/controls",
          "model_name": "DescriptionStyleModel",
          "model_module_version": "1.5.0",
          "state": {
            "_model_module": "@jupyter-widgets/controls",
            "_model_module_version": "1.5.0",
            "_model_name": "DescriptionStyleModel",
            "_view_count": null,
            "_view_module": "@jupyter-widgets/base",
            "_view_module_version": "1.2.0",
            "_view_name": "StyleView",
            "description_width": ""
          }
        },
        "1b6a8c32fe56403c9ced9008dd2e7a39": {
          "model_module": "@jupyter-widgets/controls",
          "model_name": "HBoxModel",
          "model_module_version": "1.5.0",
          "state": {
            "_dom_classes": [],
            "_model_module": "@jupyter-widgets/controls",
            "_model_module_version": "1.5.0",
            "_model_name": "HBoxModel",
            "_view_count": null,
            "_view_module": "@jupyter-widgets/controls",
            "_view_module_version": "1.5.0",
            "_view_name": "HBoxView",
            "box_style": "",
            "children": [
              "IPY_MODEL_ac46abdc717f4d9e869d427955d2295c",
              "IPY_MODEL_6108f3e2f0fa48809a93dc99066d4ba0",
              "IPY_MODEL_225c0266a86343b8a701f82243997b58"
            ],
            "layout": "IPY_MODEL_c14b81840d0d4749a2306cae0f7e31bc"
          }
        },
        "ac46abdc717f4d9e869d427955d2295c": {
          "model_module": "@jupyter-widgets/controls",
          "model_name": "HTMLModel",
          "model_module_version": "1.5.0",
          "state": {
            "_dom_classes": [],
            "_model_module": "@jupyter-widgets/controls",
            "_model_module_version": "1.5.0",
            "_model_name": "HTMLModel",
            "_view_count": null,
            "_view_module": "@jupyter-widgets/controls",
            "_view_module_version": "1.5.0",
            "_view_name": "HTMLView",
            "description": "",
            "description_tooltip": null,
            "layout": "IPY_MODEL_3f41182156f84f269cf0c2a464ccd03f",
            "placeholder": "​",
            "style": "IPY_MODEL_26da86a5dd0b4e0881091fcc1285227d",
            "value": "config.json: 100%"
          }
        },
        "6108f3e2f0fa48809a93dc99066d4ba0": {
          "model_module": "@jupyter-widgets/controls",
          "model_name": "FloatProgressModel",
          "model_module_version": "1.5.0",
          "state": {
            "_dom_classes": [],
            "_model_module": "@jupyter-widgets/controls",
            "_model_module_version": "1.5.0",
            "_model_name": "FloatProgressModel",
            "_view_count": null,
            "_view_module": "@jupyter-widgets/controls",
            "_view_module_version": "1.5.0",
            "_view_name": "ProgressView",
            "bar_style": "success",
            "description": "",
            "description_tooltip": null,
            "layout": "IPY_MODEL_69f5341129ee43e69f9f1f88502c8e4b",
            "max": 1802,
            "min": 0,
            "orientation": "horizontal",
            "style": "IPY_MODEL_c390b2d66bde4a8faa3783371f9554d3",
            "value": 1802
          }
        },
        "225c0266a86343b8a701f82243997b58": {
          "model_module": "@jupyter-widgets/controls",
          "model_name": "HTMLModel",
          "model_module_version": "1.5.0",
          "state": {
            "_dom_classes": [],
            "_model_module": "@jupyter-widgets/controls",
            "_model_module_version": "1.5.0",
            "_model_name": "HTMLModel",
            "_view_count": null,
            "_view_module": "@jupyter-widgets/controls",
            "_view_module_version": "1.5.0",
            "_view_name": "HTMLView",
            "description": "",
            "description_tooltip": null,
            "layout": "IPY_MODEL_e112ef4a839a44698e88ee5c21175a2f",
            "placeholder": "​",
            "style": "IPY_MODEL_182a9f89aa5d4940974ae8f532e963a1",
            "value": " 1.80k/1.80k [00:00&lt;00:00, 94.5kB/s]"
          }
        },
        "c14b81840d0d4749a2306cae0f7e31bc": {
          "model_module": "@jupyter-widgets/base",
          "model_name": "LayoutModel",
          "model_module_version": "1.2.0",
          "state": {
            "_model_module": "@jupyter-widgets/base",
            "_model_module_version": "1.2.0",
            "_model_name": "LayoutModel",
            "_view_count": null,
            "_view_module": "@jupyter-widgets/base",
            "_view_module_version": "1.2.0",
            "_view_name": "LayoutView",
            "align_content": null,
            "align_items": null,
            "align_self": null,
            "border": null,
            "bottom": null,
            "display": null,
            "flex": null,
            "flex_flow": null,
            "grid_area": null,
            "grid_auto_columns": null,
            "grid_auto_flow": null,
            "grid_auto_rows": null,
            "grid_column": null,
            "grid_gap": null,
            "grid_row": null,
            "grid_template_areas": null,
            "grid_template_columns": null,
            "grid_template_rows": null,
            "height": null,
            "justify_content": null,
            "justify_items": null,
            "left": null,
            "margin": null,
            "max_height": null,
            "max_width": null,
            "min_height": null,
            "min_width": null,
            "object_fit": null,
            "object_position": null,
            "order": null,
            "overflow": null,
            "overflow_x": null,
            "overflow_y": null,
            "padding": null,
            "right": null,
            "top": null,
            "visibility": null,
            "width": null
          }
        },
        "3f41182156f84f269cf0c2a464ccd03f": {
          "model_module": "@jupyter-widgets/base",
          "model_name": "LayoutModel",
          "model_module_version": "1.2.0",
          "state": {
            "_model_module": "@jupyter-widgets/base",
            "_model_module_version": "1.2.0",
            "_model_name": "LayoutModel",
            "_view_count": null,
            "_view_module": "@jupyter-widgets/base",
            "_view_module_version": "1.2.0",
            "_view_name": "LayoutView",
            "align_content": null,
            "align_items": null,
            "align_self": null,
            "border": null,
            "bottom": null,
            "display": null,
            "flex": null,
            "flex_flow": null,
            "grid_area": null,
            "grid_auto_columns": null,
            "grid_auto_flow": null,
            "grid_auto_rows": null,
            "grid_column": null,
            "grid_gap": null,
            "grid_row": null,
            "grid_template_areas": null,
            "grid_template_columns": null,
            "grid_template_rows": null,
            "height": null,
            "justify_content": null,
            "justify_items": null,
            "left": null,
            "margin": null,
            "max_height": null,
            "max_width": null,
            "min_height": null,
            "min_width": null,
            "object_fit": null,
            "object_position": null,
            "order": null,
            "overflow": null,
            "overflow_x": null,
            "overflow_y": null,
            "padding": null,
            "right": null,
            "top": null,
            "visibility": null,
            "width": null
          }
        },
        "26da86a5dd0b4e0881091fcc1285227d": {
          "model_module": "@jupyter-widgets/controls",
          "model_name": "DescriptionStyleModel",
          "model_module_version": "1.5.0",
          "state": {
            "_model_module": "@jupyter-widgets/controls",
            "_model_module_version": "1.5.0",
            "_model_name": "DescriptionStyleModel",
            "_view_count": null,
            "_view_module": "@jupyter-widgets/base",
            "_view_module_version": "1.2.0",
            "_view_name": "StyleView",
            "description_width": ""
          }
        },
        "69f5341129ee43e69f9f1f88502c8e4b": {
          "model_module": "@jupyter-widgets/base",
          "model_name": "LayoutModel",
          "model_module_version": "1.2.0",
          "state": {
            "_model_module": "@jupyter-widgets/base",
            "_model_module_version": "1.2.0",
            "_model_name": "LayoutModel",
            "_view_count": null,
            "_view_module": "@jupyter-widgets/base",
            "_view_module_version": "1.2.0",
            "_view_name": "LayoutView",
            "align_content": null,
            "align_items": null,
            "align_self": null,
            "border": null,
            "bottom": null,
            "display": null,
            "flex": null,
            "flex_flow": null,
            "grid_area": null,
            "grid_auto_columns": null,
            "grid_auto_flow": null,
            "grid_auto_rows": null,
            "grid_column": null,
            "grid_gap": null,
            "grid_row": null,
            "grid_template_areas": null,
            "grid_template_columns": null,
            "grid_template_rows": null,
            "height": null,
            "justify_content": null,
            "justify_items": null,
            "left": null,
            "margin": null,
            "max_height": null,
            "max_width": null,
            "min_height": null,
            "min_width": null,
            "object_fit": null,
            "object_position": null,
            "order": null,
            "overflow": null,
            "overflow_x": null,
            "overflow_y": null,
            "padding": null,
            "right": null,
            "top": null,
            "visibility": null,
            "width": null
          }
        },
        "c390b2d66bde4a8faa3783371f9554d3": {
          "model_module": "@jupyter-widgets/controls",
          "model_name": "ProgressStyleModel",
          "model_module_version": "1.5.0",
          "state": {
            "_model_module": "@jupyter-widgets/controls",
            "_model_module_version": "1.5.0",
            "_model_name": "ProgressStyleModel",
            "_view_count": null,
            "_view_module": "@jupyter-widgets/base",
            "_view_module_version": "1.2.0",
            "_view_name": "StyleView",
            "bar_color": null,
            "description_width": ""
          }
        },
        "e112ef4a839a44698e88ee5c21175a2f": {
          "model_module": "@jupyter-widgets/base",
          "model_name": "LayoutModel",
          "model_module_version": "1.2.0",
          "state": {
            "_model_module": "@jupyter-widgets/base",
            "_model_module_version": "1.2.0",
            "_model_name": "LayoutModel",
            "_view_count": null,
            "_view_module": "@jupyter-widgets/base",
            "_view_module_version": "1.2.0",
            "_view_name": "LayoutView",
            "align_content": null,
            "align_items": null,
            "align_self": null,
            "border": null,
            "bottom": null,
            "display": null,
            "flex": null,
            "flex_flow": null,
            "grid_area": null,
            "grid_auto_columns": null,
            "grid_auto_flow": null,
            "grid_auto_rows": null,
            "grid_column": null,
            "grid_gap": null,
            "grid_row": null,
            "grid_template_areas": null,
            "grid_template_columns": null,
            "grid_template_rows": null,
            "height": null,
            "justify_content": null,
            "justify_items": null,
            "left": null,
            "margin": null,
            "max_height": null,
            "max_width": null,
            "min_height": null,
            "min_width": null,
            "object_fit": null,
            "object_position": null,
            "order": null,
            "overflow": null,
            "overflow_x": null,
            "overflow_y": null,
            "padding": null,
            "right": null,
            "top": null,
            "visibility": null,
            "width": null
          }
        },
        "182a9f89aa5d4940974ae8f532e963a1": {
          "model_module": "@jupyter-widgets/controls",
          "model_name": "DescriptionStyleModel",
          "model_module_version": "1.5.0",
          "state": {
            "_model_module": "@jupyter-widgets/controls",
            "_model_module_version": "1.5.0",
            "_model_name": "DescriptionStyleModel",
            "_view_count": null,
            "_view_module": "@jupyter-widgets/base",
            "_view_module_version": "1.2.0",
            "_view_name": "StyleView",
            "description_width": ""
          }
        },
        "d5e981b272bb4935ac2be2053b04dc3f": {
          "model_module": "@jupyter-widgets/controls",
          "model_name": "HBoxModel",
          "model_module_version": "1.5.0",
          "state": {
            "_dom_classes": [],
            "_model_module": "@jupyter-widgets/controls",
            "_model_module_version": "1.5.0",
            "_model_name": "HBoxModel",
            "_view_count": null,
            "_view_module": "@jupyter-widgets/controls",
            "_view_module_version": "1.5.0",
            "_view_name": "HBoxView",
            "box_style": "",
            "children": [
              "IPY_MODEL_28cab0e6180440cba4131a1fc83cf0ed",
              "IPY_MODEL_3c295a14515e4cdeae28249fe726a133",
              "IPY_MODEL_2391cd35422b4b28bb79a800c2b10668"
            ],
            "layout": "IPY_MODEL_9f1bb4f610f44af78bd1e0ec97ac5a64"
          }
        },
        "28cab0e6180440cba4131a1fc83cf0ed": {
          "model_module": "@jupyter-widgets/controls",
          "model_name": "HTMLModel",
          "model_module_version": "1.5.0",
          "state": {
            "_dom_classes": [],
            "_model_module": "@jupyter-widgets/controls",
            "_model_module_version": "1.5.0",
            "_model_name": "HTMLModel",
            "_view_count": null,
            "_view_module": "@jupyter-widgets/controls",
            "_view_module_version": "1.5.0",
            "_view_name": "HTMLView",
            "description": "",
            "description_tooltip": null,
            "layout": "IPY_MODEL_31c9085bb3764b299fe19ac87ecc6d8a",
            "placeholder": "​",
            "style": "IPY_MODEL_6d7e1c23121f4b46bbdc52e1d2c792f7",
            "value": "vocab.json: 100%"
          }
        },
        "3c295a14515e4cdeae28249fe726a133": {
          "model_module": "@jupyter-widgets/controls",
          "model_name": "FloatProgressModel",
          "model_module_version": "1.5.0",
          "state": {
            "_dom_classes": [],
            "_model_module": "@jupyter-widgets/controls",
            "_model_module_version": "1.5.0",
            "_model_name": "FloatProgressModel",
            "_view_count": null,
            "_view_module": "@jupyter-widgets/controls",
            "_view_module_version": "1.5.0",
            "_view_name": "ProgressView",
            "bar_style": "success",
            "description": "",
            "description_tooltip": null,
            "layout": "IPY_MODEL_3484be2be9af4b0c8f27ef2ba0c2391a",
            "max": 898822,
            "min": 0,
            "orientation": "horizontal",
            "style": "IPY_MODEL_98a3abf9f0e8422a966f2b6609af57d2",
            "value": 898822
          }
        },
        "2391cd35422b4b28bb79a800c2b10668": {
          "model_module": "@jupyter-widgets/controls",
          "model_name": "HTMLModel",
          "model_module_version": "1.5.0",
          "state": {
            "_dom_classes": [],
            "_model_module": "@jupyter-widgets/controls",
            "_model_module_version": "1.5.0",
            "_model_name": "HTMLModel",
            "_view_count": null,
            "_view_module": "@jupyter-widgets/controls",
            "_view_module_version": "1.5.0",
            "_view_name": "HTMLView",
            "description": "",
            "description_tooltip": null,
            "layout": "IPY_MODEL_bb0bd342a4874731aa9c12ec0f1e4974",
            "placeholder": "​",
            "style": "IPY_MODEL_650378cd063f4ca39c9f626ba6555b5e",
            "value": " 899k/899k [00:00&lt;00:00, 1.13MB/s]"
          }
        },
        "9f1bb4f610f44af78bd1e0ec97ac5a64": {
          "model_module": "@jupyter-widgets/base",
          "model_name": "LayoutModel",
          "model_module_version": "1.2.0",
          "state": {
            "_model_module": "@jupyter-widgets/base",
            "_model_module_version": "1.2.0",
            "_model_name": "LayoutModel",
            "_view_count": null,
            "_view_module": "@jupyter-widgets/base",
            "_view_module_version": "1.2.0",
            "_view_name": "LayoutView",
            "align_content": null,
            "align_items": null,
            "align_self": null,
            "border": null,
            "bottom": null,
            "display": null,
            "flex": null,
            "flex_flow": null,
            "grid_area": null,
            "grid_auto_columns": null,
            "grid_auto_flow": null,
            "grid_auto_rows": null,
            "grid_column": null,
            "grid_gap": null,
            "grid_row": null,
            "grid_template_areas": null,
            "grid_template_columns": null,
            "grid_template_rows": null,
            "height": null,
            "justify_content": null,
            "justify_items": null,
            "left": null,
            "margin": null,
            "max_height": null,
            "max_width": null,
            "min_height": null,
            "min_width": null,
            "object_fit": null,
            "object_position": null,
            "order": null,
            "overflow": null,
            "overflow_x": null,
            "overflow_y": null,
            "padding": null,
            "right": null,
            "top": null,
            "visibility": null,
            "width": null
          }
        },
        "31c9085bb3764b299fe19ac87ecc6d8a": {
          "model_module": "@jupyter-widgets/base",
          "model_name": "LayoutModel",
          "model_module_version": "1.2.0",
          "state": {
            "_model_module": "@jupyter-widgets/base",
            "_model_module_version": "1.2.0",
            "_model_name": "LayoutModel",
            "_view_count": null,
            "_view_module": "@jupyter-widgets/base",
            "_view_module_version": "1.2.0",
            "_view_name": "LayoutView",
            "align_content": null,
            "align_items": null,
            "align_self": null,
            "border": null,
            "bottom": null,
            "display": null,
            "flex": null,
            "flex_flow": null,
            "grid_area": null,
            "grid_auto_columns": null,
            "grid_auto_flow": null,
            "grid_auto_rows": null,
            "grid_column": null,
            "grid_gap": null,
            "grid_row": null,
            "grid_template_areas": null,
            "grid_template_columns": null,
            "grid_template_rows": null,
            "height": null,
            "justify_content": null,
            "justify_items": null,
            "left": null,
            "margin": null,
            "max_height": null,
            "max_width": null,
            "min_height": null,
            "min_width": null,
            "object_fit": null,
            "object_position": null,
            "order": null,
            "overflow": null,
            "overflow_x": null,
            "overflow_y": null,
            "padding": null,
            "right": null,
            "top": null,
            "visibility": null,
            "width": null
          }
        },
        "6d7e1c23121f4b46bbdc52e1d2c792f7": {
          "model_module": "@jupyter-widgets/controls",
          "model_name": "DescriptionStyleModel",
          "model_module_version": "1.5.0",
          "state": {
            "_model_module": "@jupyter-widgets/controls",
            "_model_module_version": "1.5.0",
            "_model_name": "DescriptionStyleModel",
            "_view_count": null,
            "_view_module": "@jupyter-widgets/base",
            "_view_module_version": "1.2.0",
            "_view_name": "StyleView",
            "description_width": ""
          }
        },
        "3484be2be9af4b0c8f27ef2ba0c2391a": {
          "model_module": "@jupyter-widgets/base",
          "model_name": "LayoutModel",
          "model_module_version": "1.2.0",
          "state": {
            "_model_module": "@jupyter-widgets/base",
            "_model_module_version": "1.2.0",
            "_model_name": "LayoutModel",
            "_view_count": null,
            "_view_module": "@jupyter-widgets/base",
            "_view_module_version": "1.2.0",
            "_view_name": "LayoutView",
            "align_content": null,
            "align_items": null,
            "align_self": null,
            "border": null,
            "bottom": null,
            "display": null,
            "flex": null,
            "flex_flow": null,
            "grid_area": null,
            "grid_auto_columns": null,
            "grid_auto_flow": null,
            "grid_auto_rows": null,
            "grid_column": null,
            "grid_gap": null,
            "grid_row": null,
            "grid_template_areas": null,
            "grid_template_columns": null,
            "grid_template_rows": null,
            "height": null,
            "justify_content": null,
            "justify_items": null,
            "left": null,
            "margin": null,
            "max_height": null,
            "max_width": null,
            "min_height": null,
            "min_width": null,
            "object_fit": null,
            "object_position": null,
            "order": null,
            "overflow": null,
            "overflow_x": null,
            "overflow_y": null,
            "padding": null,
            "right": null,
            "top": null,
            "visibility": null,
            "width": null
          }
        },
        "98a3abf9f0e8422a966f2b6609af57d2": {
          "model_module": "@jupyter-widgets/controls",
          "model_name": "ProgressStyleModel",
          "model_module_version": "1.5.0",
          "state": {
            "_model_module": "@jupyter-widgets/controls",
            "_model_module_version": "1.5.0",
            "_model_name": "ProgressStyleModel",
            "_view_count": null,
            "_view_module": "@jupyter-widgets/base",
            "_view_module_version": "1.2.0",
            "_view_name": "StyleView",
            "bar_color": null,
            "description_width": ""
          }
        },
        "bb0bd342a4874731aa9c12ec0f1e4974": {
          "model_module": "@jupyter-widgets/base",
          "model_name": "LayoutModel",
          "model_module_version": "1.2.0",
          "state": {
            "_model_module": "@jupyter-widgets/base",
            "_model_module_version": "1.2.0",
            "_model_name": "LayoutModel",
            "_view_count": null,
            "_view_module": "@jupyter-widgets/base",
            "_view_module_version": "1.2.0",
            "_view_name": "LayoutView",
            "align_content": null,
            "align_items": null,
            "align_self": null,
            "border": null,
            "bottom": null,
            "display": null,
            "flex": null,
            "flex_flow": null,
            "grid_area": null,
            "grid_auto_columns": null,
            "grid_auto_flow": null,
            "grid_auto_rows": null,
            "grid_column": null,
            "grid_gap": null,
            "grid_row": null,
            "grid_template_areas": null,
            "grid_template_columns": null,
            "grid_template_rows": null,
            "height": null,
            "justify_content": null,
            "justify_items": null,
            "left": null,
            "margin": null,
            "max_height": null,
            "max_width": null,
            "min_height": null,
            "min_width": null,
            "object_fit": null,
            "object_position": null,
            "order": null,
            "overflow": null,
            "overflow_x": null,
            "overflow_y": null,
            "padding": null,
            "right": null,
            "top": null,
            "visibility": null,
            "width": null
          }
        },
        "650378cd063f4ca39c9f626ba6555b5e": {
          "model_module": "@jupyter-widgets/controls",
          "model_name": "DescriptionStyleModel",
          "model_module_version": "1.5.0",
          "state": {
            "_model_module": "@jupyter-widgets/controls",
            "_model_module_version": "1.5.0",
            "_model_name": "DescriptionStyleModel",
            "_view_count": null,
            "_view_module": "@jupyter-widgets/base",
            "_view_module_version": "1.2.0",
            "_view_name": "StyleView",
            "description_width": ""
          }
        },
        "98f4b6cb17bc47feae1b8d9a88c35328": {
          "model_module": "@jupyter-widgets/controls",
          "model_name": "HBoxModel",
          "model_module_version": "1.5.0",
          "state": {
            "_dom_classes": [],
            "_model_module": "@jupyter-widgets/controls",
            "_model_module_version": "1.5.0",
            "_model_name": "HBoxModel",
            "_view_count": null,
            "_view_module": "@jupyter-widgets/controls",
            "_view_module_version": "1.5.0",
            "_view_name": "HBoxView",
            "box_style": "",
            "children": [
              "IPY_MODEL_880219675bc246cb9b0117ae82c06424",
              "IPY_MODEL_520d1a73fe63488b9a1109a624ccc5f7",
              "IPY_MODEL_0c1b3989e7c94773a05b7fa44eefe921"
            ],
            "layout": "IPY_MODEL_1c8f661041b442358ecbd3a730844526"
          }
        },
        "880219675bc246cb9b0117ae82c06424": {
          "model_module": "@jupyter-widgets/controls",
          "model_name": "HTMLModel",
          "model_module_version": "1.5.0",
          "state": {
            "_dom_classes": [],
            "_model_module": "@jupyter-widgets/controls",
            "_model_module_version": "1.5.0",
            "_model_name": "HTMLModel",
            "_view_count": null,
            "_view_module": "@jupyter-widgets/controls",
            "_view_module_version": "1.5.0",
            "_view_name": "HTMLView",
            "description": "",
            "description_tooltip": null,
            "layout": "IPY_MODEL_79b7df3b16294847aed07d8499566bfd",
            "placeholder": "​",
            "style": "IPY_MODEL_ad74b4f637f74581bb32f7e1a2e3e726",
            "value": "merges.txt: 100%"
          }
        },
        "520d1a73fe63488b9a1109a624ccc5f7": {
          "model_module": "@jupyter-widgets/controls",
          "model_name": "FloatProgressModel",
          "model_module_version": "1.5.0",
          "state": {
            "_dom_classes": [],
            "_model_module": "@jupyter-widgets/controls",
            "_model_module_version": "1.5.0",
            "_model_name": "FloatProgressModel",
            "_view_count": null,
            "_view_module": "@jupyter-widgets/controls",
            "_view_module_version": "1.5.0",
            "_view_name": "ProgressView",
            "bar_style": "success",
            "description": "",
            "description_tooltip": null,
            "layout": "IPY_MODEL_1e167ace02d847a9aafed47147e9c639",
            "max": 456318,
            "min": 0,
            "orientation": "horizontal",
            "style": "IPY_MODEL_537ddbf517c045d2bcf7d92f9173dcc5",
            "value": 456318
          }
        },
        "0c1b3989e7c94773a05b7fa44eefe921": {
          "model_module": "@jupyter-widgets/controls",
          "model_name": "HTMLModel",
          "model_module_version": "1.5.0",
          "state": {
            "_dom_classes": [],
            "_model_module": "@jupyter-widgets/controls",
            "_model_module_version": "1.5.0",
            "_model_name": "HTMLModel",
            "_view_count": null,
            "_view_module": "@jupyter-widgets/controls",
            "_view_module_version": "1.5.0",
            "_view_name": "HTMLView",
            "description": "",
            "description_tooltip": null,
            "layout": "IPY_MODEL_0889f71b3928489284d9ec03b4e283ea",
            "placeholder": "​",
            "style": "IPY_MODEL_d46197cf47fb48409d88ef55be32a230",
            "value": " 456k/456k [00:00&lt;00:00, 765kB/s]"
          }
        },
        "1c8f661041b442358ecbd3a730844526": {
          "model_module": "@jupyter-widgets/base",
          "model_name": "LayoutModel",
          "model_module_version": "1.2.0",
          "state": {
            "_model_module": "@jupyter-widgets/base",
            "_model_module_version": "1.2.0",
            "_model_name": "LayoutModel",
            "_view_count": null,
            "_view_module": "@jupyter-widgets/base",
            "_view_module_version": "1.2.0",
            "_view_name": "LayoutView",
            "align_content": null,
            "align_items": null,
            "align_self": null,
            "border": null,
            "bottom": null,
            "display": null,
            "flex": null,
            "flex_flow": null,
            "grid_area": null,
            "grid_auto_columns": null,
            "grid_auto_flow": null,
            "grid_auto_rows": null,
            "grid_column": null,
            "grid_gap": null,
            "grid_row": null,
            "grid_template_areas": null,
            "grid_template_columns": null,
            "grid_template_rows": null,
            "height": null,
            "justify_content": null,
            "justify_items": null,
            "left": null,
            "margin": null,
            "max_height": null,
            "max_width": null,
            "min_height": null,
            "min_width": null,
            "object_fit": null,
            "object_position": null,
            "order": null,
            "overflow": null,
            "overflow_x": null,
            "overflow_y": null,
            "padding": null,
            "right": null,
            "top": null,
            "visibility": null,
            "width": null
          }
        },
        "79b7df3b16294847aed07d8499566bfd": {
          "model_module": "@jupyter-widgets/base",
          "model_name": "LayoutModel",
          "model_module_version": "1.2.0",
          "state": {
            "_model_module": "@jupyter-widgets/base",
            "_model_module_version": "1.2.0",
            "_model_name": "LayoutModel",
            "_view_count": null,
            "_view_module": "@jupyter-widgets/base",
            "_view_module_version": "1.2.0",
            "_view_name": "LayoutView",
            "align_content": null,
            "align_items": null,
            "align_self": null,
            "border": null,
            "bottom": null,
            "display": null,
            "flex": null,
            "flex_flow": null,
            "grid_area": null,
            "grid_auto_columns": null,
            "grid_auto_flow": null,
            "grid_auto_rows": null,
            "grid_column": null,
            "grid_gap": null,
            "grid_row": null,
            "grid_template_areas": null,
            "grid_template_columns": null,
            "grid_template_rows": null,
            "height": null,
            "justify_content": null,
            "justify_items": null,
            "left": null,
            "margin": null,
            "max_height": null,
            "max_width": null,
            "min_height": null,
            "min_width": null,
            "object_fit": null,
            "object_position": null,
            "order": null,
            "overflow": null,
            "overflow_x": null,
            "overflow_y": null,
            "padding": null,
            "right": null,
            "top": null,
            "visibility": null,
            "width": null
          }
        },
        "ad74b4f637f74581bb32f7e1a2e3e726": {
          "model_module": "@jupyter-widgets/controls",
          "model_name": "DescriptionStyleModel",
          "model_module_version": "1.5.0",
          "state": {
            "_model_module": "@jupyter-widgets/controls",
            "_model_module_version": "1.5.0",
            "_model_name": "DescriptionStyleModel",
            "_view_count": null,
            "_view_module": "@jupyter-widgets/base",
            "_view_module_version": "1.2.0",
            "_view_name": "StyleView",
            "description_width": ""
          }
        },
        "1e167ace02d847a9aafed47147e9c639": {
          "model_module": "@jupyter-widgets/base",
          "model_name": "LayoutModel",
          "model_module_version": "1.2.0",
          "state": {
            "_model_module": "@jupyter-widgets/base",
            "_model_module_version": "1.2.0",
            "_model_name": "LayoutModel",
            "_view_count": null,
            "_view_module": "@jupyter-widgets/base",
            "_view_module_version": "1.2.0",
            "_view_name": "LayoutView",
            "align_content": null,
            "align_items": null,
            "align_self": null,
            "border": null,
            "bottom": null,
            "display": null,
            "flex": null,
            "flex_flow": null,
            "grid_area": null,
            "grid_auto_columns": null,
            "grid_auto_flow": null,
            "grid_auto_rows": null,
            "grid_column": null,
            "grid_gap": null,
            "grid_row": null,
            "grid_template_areas": null,
            "grid_template_columns": null,
            "grid_template_rows": null,
            "height": null,
            "justify_content": null,
            "justify_items": null,
            "left": null,
            "margin": null,
            "max_height": null,
            "max_width": null,
            "min_height": null,
            "min_width": null,
            "object_fit": null,
            "object_position": null,
            "order": null,
            "overflow": null,
            "overflow_x": null,
            "overflow_y": null,
            "padding": null,
            "right": null,
            "top": null,
            "visibility": null,
            "width": null
          }
        },
        "537ddbf517c045d2bcf7d92f9173dcc5": {
          "model_module": "@jupyter-widgets/controls",
          "model_name": "ProgressStyleModel",
          "model_module_version": "1.5.0",
          "state": {
            "_model_module": "@jupyter-widgets/controls",
            "_model_module_version": "1.5.0",
            "_model_name": "ProgressStyleModel",
            "_view_count": null,
            "_view_module": "@jupyter-widgets/base",
            "_view_module_version": "1.2.0",
            "_view_name": "StyleView",
            "bar_color": null,
            "description_width": ""
          }
        },
        "0889f71b3928489284d9ec03b4e283ea": {
          "model_module": "@jupyter-widgets/base",
          "model_name": "LayoutModel",
          "model_module_version": "1.2.0",
          "state": {
            "_model_module": "@jupyter-widgets/base",
            "_model_module_version": "1.2.0",
            "_model_name": "LayoutModel",
            "_view_count": null,
            "_view_module": "@jupyter-widgets/base",
            "_view_module_version": "1.2.0",
            "_view_name": "LayoutView",
            "align_content": null,
            "align_items": null,
            "align_self": null,
            "border": null,
            "bottom": null,
            "display": null,
            "flex": null,
            "flex_flow": null,
            "grid_area": null,
            "grid_auto_columns": null,
            "grid_auto_flow": null,
            "grid_auto_rows": null,
            "grid_column": null,
            "grid_gap": null,
            "grid_row": null,
            "grid_template_areas": null,
            "grid_template_columns": null,
            "grid_template_rows": null,
            "height": null,
            "justify_content": null,
            "justify_items": null,
            "left": null,
            "margin": null,
            "max_height": null,
            "max_width": null,
            "min_height": null,
            "min_width": null,
            "object_fit": null,
            "object_position": null,
            "order": null,
            "overflow": null,
            "overflow_x": null,
            "overflow_y": null,
            "padding": null,
            "right": null,
            "top": null,
            "visibility": null,
            "width": null
          }
        },
        "d46197cf47fb48409d88ef55be32a230": {
          "model_module": "@jupyter-widgets/controls",
          "model_name": "DescriptionStyleModel",
          "model_module_version": "1.5.0",
          "state": {
            "_model_module": "@jupyter-widgets/controls",
            "_model_module_version": "1.5.0",
            "_model_name": "DescriptionStyleModel",
            "_view_count": null,
            "_view_module": "@jupyter-widgets/base",
            "_view_module_version": "1.2.0",
            "_view_name": "StyleView",
            "description_width": ""
          }
        },
        "dd2579201cfc444dbfd8b6f62b6bdfa7": {
          "model_module": "@jupyter-widgets/controls",
          "model_name": "HBoxModel",
          "model_module_version": "1.5.0",
          "state": {
            "_dom_classes": [],
            "_model_module": "@jupyter-widgets/controls",
            "_model_module_version": "1.5.0",
            "_model_name": "HBoxModel",
            "_view_count": null,
            "_view_module": "@jupyter-widgets/controls",
            "_view_module_version": "1.5.0",
            "_view_name": "HBoxView",
            "box_style": "",
            "children": [
              "IPY_MODEL_a03d7ddb953045fb95594233c6fff838",
              "IPY_MODEL_ca290be5623543399317fc2857b08456",
              "IPY_MODEL_f7d57e396b174b6fa95b0fc463565ffa"
            ],
            "layout": "IPY_MODEL_eb8f97fc8ab94b2c9878c8900663a41b"
          }
        },
        "a03d7ddb953045fb95594233c6fff838": {
          "model_module": "@jupyter-widgets/controls",
          "model_name": "HTMLModel",
          "model_module_version": "1.5.0",
          "state": {
            "_dom_classes": [],
            "_model_module": "@jupyter-widgets/controls",
            "_model_module_version": "1.5.0",
            "_model_name": "HTMLModel",
            "_view_count": null,
            "_view_module": "@jupyter-widgets/controls",
            "_view_module_version": "1.5.0",
            "_view_name": "HTMLView",
            "description": "",
            "description_tooltip": null,
            "layout": "IPY_MODEL_cd4c4b50cd3e4511b6b9994f52c13e93",
            "placeholder": "​",
            "style": "IPY_MODEL_2e4894729f344eb8873637491725c07a",
            "value": "pytorch_model.bin: 100%"
          }
        },
        "ca290be5623543399317fc2857b08456": {
          "model_module": "@jupyter-widgets/controls",
          "model_name": "FloatProgressModel",
          "model_module_version": "1.5.0",
          "state": {
            "_dom_classes": [],
            "_model_module": "@jupyter-widgets/controls",
            "_model_module_version": "1.5.0",
            "_model_name": "FloatProgressModel",
            "_view_count": null,
            "_view_module": "@jupyter-widgets/controls",
            "_view_module_version": "1.5.0",
            "_view_name": "ProgressView",
            "bar_style": "success",
            "description": "",
            "description_tooltip": null,
            "layout": "IPY_MODEL_2f6e2b4e014e478e92914cd06b71d555",
            "max": 1222317369,
            "min": 0,
            "orientation": "horizontal",
            "style": "IPY_MODEL_eda8a0af2ce04ddf8425be422a496af7",
            "value": 1222317369
          }
        },
        "f7d57e396b174b6fa95b0fc463565ffa": {
          "model_module": "@jupyter-widgets/controls",
          "model_name": "HTMLModel",
          "model_module_version": "1.5.0",
          "state": {
            "_dom_classes": [],
            "_model_module": "@jupyter-widgets/controls",
            "_model_module_version": "1.5.0",
            "_model_name": "HTMLModel",
            "_view_count": null,
            "_view_module": "@jupyter-widgets/controls",
            "_view_module_version": "1.5.0",
            "_view_name": "HTMLView",
            "description": "",
            "description_tooltip": null,
            "layout": "IPY_MODEL_8eed0eec3bbb4fc4ba96529db72322a4",
            "placeholder": "​",
            "style": "IPY_MODEL_614115420a4c4fe0b99440ac93a1527b",
            "value": " 1.22G/1.22G [00:23&lt;00:00, 53.4MB/s]"
          }
        },
        "eb8f97fc8ab94b2c9878c8900663a41b": {
          "model_module": "@jupyter-widgets/base",
          "model_name": "LayoutModel",
          "model_module_version": "1.2.0",
          "state": {
            "_model_module": "@jupyter-widgets/base",
            "_model_module_version": "1.2.0",
            "_model_name": "LayoutModel",
            "_view_count": null,
            "_view_module": "@jupyter-widgets/base",
            "_view_module_version": "1.2.0",
            "_view_name": "LayoutView",
            "align_content": null,
            "align_items": null,
            "align_self": null,
            "border": null,
            "bottom": null,
            "display": null,
            "flex": null,
            "flex_flow": null,
            "grid_area": null,
            "grid_auto_columns": null,
            "grid_auto_flow": null,
            "grid_auto_rows": null,
            "grid_column": null,
            "grid_gap": null,
            "grid_row": null,
            "grid_template_areas": null,
            "grid_template_columns": null,
            "grid_template_rows": null,
            "height": null,
            "justify_content": null,
            "justify_items": null,
            "left": null,
            "margin": null,
            "max_height": null,
            "max_width": null,
            "min_height": null,
            "min_width": null,
            "object_fit": null,
            "object_position": null,
            "order": null,
            "overflow": null,
            "overflow_x": null,
            "overflow_y": null,
            "padding": null,
            "right": null,
            "top": null,
            "visibility": null,
            "width": null
          }
        },
        "cd4c4b50cd3e4511b6b9994f52c13e93": {
          "model_module": "@jupyter-widgets/base",
          "model_name": "LayoutModel",
          "model_module_version": "1.2.0",
          "state": {
            "_model_module": "@jupyter-widgets/base",
            "_model_module_version": "1.2.0",
            "_model_name": "LayoutModel",
            "_view_count": null,
            "_view_module": "@jupyter-widgets/base",
            "_view_module_version": "1.2.0",
            "_view_name": "LayoutView",
            "align_content": null,
            "align_items": null,
            "align_self": null,
            "border": null,
            "bottom": null,
            "display": null,
            "flex": null,
            "flex_flow": null,
            "grid_area": null,
            "grid_auto_columns": null,
            "grid_auto_flow": null,
            "grid_auto_rows": null,
            "grid_column": null,
            "grid_gap": null,
            "grid_row": null,
            "grid_template_areas": null,
            "grid_template_columns": null,
            "grid_template_rows": null,
            "height": null,
            "justify_content": null,
            "justify_items": null,
            "left": null,
            "margin": null,
            "max_height": null,
            "max_width": null,
            "min_height": null,
            "min_width": null,
            "object_fit": null,
            "object_position": null,
            "order": null,
            "overflow": null,
            "overflow_x": null,
            "overflow_y": null,
            "padding": null,
            "right": null,
            "top": null,
            "visibility": null,
            "width": null
          }
        },
        "2e4894729f344eb8873637491725c07a": {
          "model_module": "@jupyter-widgets/controls",
          "model_name": "DescriptionStyleModel",
          "model_module_version": "1.5.0",
          "state": {
            "_model_module": "@jupyter-widgets/controls",
            "_model_module_version": "1.5.0",
            "_model_name": "DescriptionStyleModel",
            "_view_count": null,
            "_view_module": "@jupyter-widgets/base",
            "_view_module_version": "1.2.0",
            "_view_name": "StyleView",
            "description_width": ""
          }
        },
        "2f6e2b4e014e478e92914cd06b71d555": {
          "model_module": "@jupyter-widgets/base",
          "model_name": "LayoutModel",
          "model_module_version": "1.2.0",
          "state": {
            "_model_module": "@jupyter-widgets/base",
            "_model_module_version": "1.2.0",
            "_model_name": "LayoutModel",
            "_view_count": null,
            "_view_module": "@jupyter-widgets/base",
            "_view_module_version": "1.2.0",
            "_view_name": "LayoutView",
            "align_content": null,
            "align_items": null,
            "align_self": null,
            "border": null,
            "bottom": null,
            "display": null,
            "flex": null,
            "flex_flow": null,
            "grid_area": null,
            "grid_auto_columns": null,
            "grid_auto_flow": null,
            "grid_auto_rows": null,
            "grid_column": null,
            "grid_gap": null,
            "grid_row": null,
            "grid_template_areas": null,
            "grid_template_columns": null,
            "grid_template_rows": null,
            "height": null,
            "justify_content": null,
            "justify_items": null,
            "left": null,
            "margin": null,
            "max_height": null,
            "max_width": null,
            "min_height": null,
            "min_width": null,
            "object_fit": null,
            "object_position": null,
            "order": null,
            "overflow": null,
            "overflow_x": null,
            "overflow_y": null,
            "padding": null,
            "right": null,
            "top": null,
            "visibility": null,
            "width": null
          }
        },
        "eda8a0af2ce04ddf8425be422a496af7": {
          "model_module": "@jupyter-widgets/controls",
          "model_name": "ProgressStyleModel",
          "model_module_version": "1.5.0",
          "state": {
            "_model_module": "@jupyter-widgets/controls",
            "_model_module_version": "1.5.0",
            "_model_name": "ProgressStyleModel",
            "_view_count": null,
            "_view_module": "@jupyter-widgets/base",
            "_view_module_version": "1.2.0",
            "_view_name": "StyleView",
            "bar_color": null,
            "description_width": ""
          }
        },
        "8eed0eec3bbb4fc4ba96529db72322a4": {
          "model_module": "@jupyter-widgets/base",
          "model_name": "LayoutModel",
          "model_module_version": "1.2.0",
          "state": {
            "_model_module": "@jupyter-widgets/base",
            "_model_module_version": "1.2.0",
            "_model_name": "LayoutModel",
            "_view_count": null,
            "_view_module": "@jupyter-widgets/base",
            "_view_module_version": "1.2.0",
            "_view_name": "LayoutView",
            "align_content": null,
            "align_items": null,
            "align_self": null,
            "border": null,
            "bottom": null,
            "display": null,
            "flex": null,
            "flex_flow": null,
            "grid_area": null,
            "grid_auto_columns": null,
            "grid_auto_flow": null,
            "grid_auto_rows": null,
            "grid_column": null,
            "grid_gap": null,
            "grid_row": null,
            "grid_template_areas": null,
            "grid_template_columns": null,
            "grid_template_rows": null,
            "height": null,
            "justify_content": null,
            "justify_items": null,
            "left": null,
            "margin": null,
            "max_height": null,
            "max_width": null,
            "min_height": null,
            "min_width": null,
            "object_fit": null,
            "object_position": null,
            "order": null,
            "overflow": null,
            "overflow_x": null,
            "overflow_y": null,
            "padding": null,
            "right": null,
            "top": null,
            "visibility": null,
            "width": null
          }
        },
        "614115420a4c4fe0b99440ac93a1527b": {
          "model_module": "@jupyter-widgets/controls",
          "model_name": "DescriptionStyleModel",
          "model_module_version": "1.5.0",
          "state": {
            "_model_module": "@jupyter-widgets/controls",
            "_model_module_version": "1.5.0",
            "_model_name": "DescriptionStyleModel",
            "_view_count": null,
            "_view_module": "@jupyter-widgets/base",
            "_view_module_version": "1.2.0",
            "_view_name": "StyleView",
            "description_width": ""
          }
        }
      }
    }
  },
  "cells": [
    {
      "cell_type": "code",
      "source": [],
      "metadata": {
        "id": "qFzkJ_nHCEZm"
      },
      "execution_count": null,
      "outputs": []
    },
    {
      "cell_type": "code",
      "source": [
        "pip install keras-core"
      ],
      "metadata": {
        "colab": {
          "base_uri": "https://localhost:8080/"
        },
        "id": "plK8vVTxFHLZ",
        "outputId": "26d61e47-df4a-4de0-db69-51e06d7b8bb1"
      },
      "execution_count": 3,
      "outputs": [
        {
          "output_type": "stream",
          "name": "stdout",
          "text": [
            "Collecting keras-core\n",
            "  Downloading keras_core-0.1.7-py3-none-any.whl (950 kB)\n",
            "\u001b[2K     \u001b[90m━━━━━━━━━━━━━━━━━━━━━━━━━━━━━━━━━━━━━━━━\u001b[0m \u001b[32m950.8/950.8 kB\u001b[0m \u001b[31m7.4 MB/s\u001b[0m eta \u001b[36m0:00:00\u001b[0m\n",
            "\u001b[?25hRequirement already satisfied: absl-py in /usr/local/lib/python3.10/dist-packages (from keras-core) (1.4.0)\n",
            "Requirement already satisfied: numpy in /usr/local/lib/python3.10/dist-packages (from keras-core) (1.25.2)\n",
            "Requirement already satisfied: rich in /usr/local/lib/python3.10/dist-packages (from keras-core) (13.7.1)\n",
            "Collecting namex (from keras-core)\n",
            "  Downloading namex-0.0.8-py3-none-any.whl (5.8 kB)\n",
            "Requirement already satisfied: h5py in /usr/local/lib/python3.10/dist-packages (from keras-core) (3.9.0)\n",
            "Requirement already satisfied: dm-tree in /usr/local/lib/python3.10/dist-packages (from keras-core) (0.1.8)\n",
            "Requirement already satisfied: markdown-it-py>=2.2.0 in /usr/local/lib/python3.10/dist-packages (from rich->keras-core) (3.0.0)\n",
            "Requirement already satisfied: pygments<3.0.0,>=2.13.0 in /usr/local/lib/python3.10/dist-packages (from rich->keras-core) (2.16.1)\n",
            "Requirement already satisfied: mdurl~=0.1 in /usr/local/lib/python3.10/dist-packages (from markdown-it-py>=2.2.0->rich->keras-core) (0.1.2)\n",
            "Installing collected packages: namex, keras-core\n",
            "Successfully installed keras-core-0.1.7 namex-0.0.8\n"
          ]
        }
      ]
    },
    {
      "cell_type": "code",
      "source": [
        "# install transformers with sentencepiece\n",
        "!pip install transformers[sentencepiece]"
      ],
      "metadata": {
        "colab": {
          "base_uri": "https://localhost:8080/"
        },
        "id": "xuGlIGq5CFph",
        "outputId": "b4901a8a-ebb6-4d1f-d67d-8c1d6fd7eb3a"
      },
      "execution_count": 44,
      "outputs": [
        {
          "output_type": "stream",
          "name": "stdout",
          "text": [
            "Requirement already satisfied: transformers[sentencepiece] in /usr/local/lib/python3.10/dist-packages (4.40.0)\n",
            "Requirement already satisfied: filelock in /usr/local/lib/python3.10/dist-packages (from transformers[sentencepiece]) (3.13.4)\n",
            "Requirement already satisfied: huggingface-hub<1.0,>=0.19.3 in /usr/local/lib/python3.10/dist-packages (from transformers[sentencepiece]) (0.22.2)\n",
            "Requirement already satisfied: numpy>=1.17 in /usr/local/lib/python3.10/dist-packages (from transformers[sentencepiece]) (1.25.2)\n",
            "Requirement already satisfied: packaging>=20.0 in /usr/local/lib/python3.10/dist-packages (from transformers[sentencepiece]) (24.0)\n",
            "Requirement already satisfied: pyyaml>=5.1 in /usr/local/lib/python3.10/dist-packages (from transformers[sentencepiece]) (6.0.1)\n",
            "Requirement already satisfied: regex!=2019.12.17 in /usr/local/lib/python3.10/dist-packages (from transformers[sentencepiece]) (2023.12.25)\n",
            "Requirement already satisfied: requests in /usr/local/lib/python3.10/dist-packages (from transformers[sentencepiece]) (2.31.0)\n",
            "Requirement already satisfied: tokenizers<0.20,>=0.19 in /usr/local/lib/python3.10/dist-packages (from transformers[sentencepiece]) (0.19.1)\n",
            "Requirement already satisfied: safetensors>=0.4.1 in /usr/local/lib/python3.10/dist-packages (from transformers[sentencepiece]) (0.4.3)\n",
            "Requirement already satisfied: tqdm>=4.27 in /usr/local/lib/python3.10/dist-packages (from transformers[sentencepiece]) (4.66.2)\n",
            "Requirement already satisfied: sentencepiece!=0.1.92,>=0.1.91 in /usr/local/lib/python3.10/dist-packages (from transformers[sentencepiece]) (0.1.99)\n",
            "Requirement already satisfied: protobuf in /usr/local/lib/python3.10/dist-packages (from transformers[sentencepiece]) (3.20.3)\n",
            "Requirement already satisfied: fsspec>=2023.5.0 in /usr/local/lib/python3.10/dist-packages (from huggingface-hub<1.0,>=0.19.3->transformers[sentencepiece]) (2023.6.0)\n",
            "Requirement already satisfied: typing-extensions>=3.7.4.3 in /usr/local/lib/python3.10/dist-packages (from huggingface-hub<1.0,>=0.19.3->transformers[sentencepiece]) (4.11.0)\n",
            "Requirement already satisfied: charset-normalizer<4,>=2 in /usr/local/lib/python3.10/dist-packages (from requests->transformers[sentencepiece]) (3.3.2)\n",
            "Requirement already satisfied: idna<4,>=2.5 in /usr/local/lib/python3.10/dist-packages (from requests->transformers[sentencepiece]) (3.7)\n",
            "Requirement already satisfied: urllib3<3,>=1.21.1 in /usr/local/lib/python3.10/dist-packages (from requests->transformers[sentencepiece]) (2.0.7)\n",
            "Requirement already satisfied: certifi>=2017.4.17 in /usr/local/lib/python3.10/dist-packages (from requests->transformers[sentencepiece]) (2024.2.2)\n"
          ]
        }
      ]
    },
    {
      "cell_type": "code",
      "source": [
        "file = open(\"transcript.txt\", \"r\")\n",
        "FileContent = file.read().strip()"
      ],
      "metadata": {
        "id": "sx7EmSlEE7y3"
      },
      "execution_count": 45,
      "outputs": []
    },
    {
      "cell_type": "code",
      "source": [
        "# display file content\n",
        "FileContent"
      ],
      "metadata": {
        "colab": {
          "base_uri": "https://localhost:8080/",
          "height": 140
        },
        "id": "FqvkaB07FbWd",
        "outputId": "bb38d087-fffb-43cc-e4a2-fddf3962d6da"
      },
      "execution_count": 46,
      "outputs": [
        {
          "output_type": "execute_result",
          "data": {
            "text/plain": [
              "\"Yeah. Yeah, sure. It kinda does make sense, doesn't it, because when we get into the end of meeting we're kind of talking about action and design as opposed to background. Everything I have is kinda background. Mm-hmm. Uh that sounds. Sure. Okay. Sure. Yeah, cool. Why don't I get that? Hmm. Okay. Okay. Um alright so c is it function F_ eight? Hmm. Come on. I think it's working. Okay great s so let me just start this. Okay great. So um uh s move on. Uh-huh oh where'd it all go? It's not good. Okay lemme just see where I can find it. This looks more like it. I think I just opened up the template. Sorry about that. Okay alright so let's have a look here. Okay so this was the method that um I've taken. Uh basically what I wanna do here, before we get into it uh too far, is I want to show you all the background information I have that I think we need to acknowledge if we want this to be successful. And uh and then sorta g go through some of the way that I've dealt with that information, and then sort of bring us all together into it to see sorta see how this fits in with the overall vision. Um so I've tried to take a whole lot of market research and summarise it for us, and then ide identify uh trends that are are sort of in sync and are important to our our uh p project plan that we have so far, and then uh initiate a kind of discussion on design options so that it sorta helps us to to narrow in on on aspects that will inform other uh other elements of the of the project. Does that make sense, tha that sort of strategy? I thought that that will impact on the rest of what we do, so that's why I suggested we get in this. Okay so out of um different uh figures and ratings ob uh of people in general, um consumers in general, the number one thing that was found was that uh the br t television remote control, a fancy look and feel, okay, and not, it specified, not a functional look or or feel, uh b f f fancy. Um however, this is where we kinda have to be very, I think, creative about it. Number two was that it be innovative. Okay so that tells me that we have to find a way to be innovative without a adding just unnecessary um sort of functional bits to it. Uh and third priority uh for ease of use, so again that kind of gives us a general picture of how it has to be, um quite user friendly while still having technology. So it I'll just say right away as a bit of a foreshadowing into how we proceed with this in terms of m marketing, is that I think um what we should think about is how the um about how the innovation uh contributes to the look and feel, and not so much to the functionality of it. For example like when you pick it up and push it like it all lights up or something, you know what I mean, like, or it's got something else to it that just seems innovative because obviously the thing that the message here is ease of use. So how do you make innovation make something more more easy to use? Well that's I guess where we're gonna go with this. Okay then there's the other aspect of the back the the market um research I have here is on fashion style, okay, which as we've agreed is a priority. Uh top European fashion trend um that I read about says there's this emerging theme of fruit and vegetables, okay, especially in clothes and furniture. And when I first saw that I thought hmm, well do we want to actually try and think about this trend and how we add something to it, or we get right into it, or we completely steer away from it, do you know what I mean? So my my feeling is that we w do want to observe this trend, but we want to think also about the fact that it sort of has to fit in with something which is not specifically electronics. Um 'cause I think what we're in what we're in is partly sort of home decor, partly something like a computer, um so I think we might wanna be careful about how you know how quickly we create like a remote control in the shape of an apple or something, I think that would be pushing it. And then in terms of m material trends are for things to be soft and spongy and sort of, you might say ergonomic or or friendly to handle, which is which also in indicated that last year this was this was not the case. So um probably a lot of the competition on the market will be still in last year's mode, so if we try and really capitalise on that, I think that'll be in our favour. Um So these this is the summary of everything. Um style is number one uh thing in the in the market of who we're selling to. Uh innovative design technology's also a must in that it's seen it'd be seen to be uh cutting edge, uh but ease of use t has to be insured throughout. That was like the number three thing. And then at the end there are vibrant natural colours um that's the way I interpreted it anyway, softness in materials, shape, and function, and so I've written at written at the bottom to give us sort of a context of discussion, Mac iPods, something which is, I'd have to say very high-tech, ten gigabytes, whatever, but when you hold it in your hand there's like no buttons. You know what a Mac iPod is? I'm thinking however Mac iPod is sort of last year's because it's very hard and sort of glassy and glossy, so I'm thinking if we imagine that we're taking some of the features of a Mac iPod and we're then making it s more of like a more of like a comfortable type of or more of like a maybe more vibrant to friendly thing to have. Um and then so this is w with all that information what I'm what I'm suggesting in this slide here is that we we take these ideas, and as we get into more the more um techni like sort of production side of things, that we think about shape, materials, and themes or series that go throughout. Sort of like a I dunno like um we think of some kind of a thin theme that unifies it all, that we agree on, uh sorta like a marketing identity. Um Does that make sense? Yeah. So so like I threw out a few ideas there just to kinda get us thinking along those lines like lemon, lime, I dunno, green colours, pe whatever, it's just an idea, 'cause I'm thinking that some of these ideas will seem quite coherent if we use them in terms of their what people associate this them with in terms of texture, shape, colours, things like that. Like um the ones the ones which I'm most fond of in terms of giving like a theme to it would be like um like lemon or something like that, you know something which is, like you see a lot in in other areas. Like I see lots of websites and things that seem to associate with like lemon and lime and So anyway it's just just an idea. I'm thinking maybe we could incorporate some of these features into a fairly um into something which is which seems to have something to it which is almost gimmicky because like um like something to do with like lighting within it. Like you know just within the simple sense, when you pick up a phone and touch a button it uh lights up, q usually the buttons light up. How can we build on that? Maybe like it could light up in different colours or something or or people could buy the buy the control and then it comes with different like covers or something so. Anyway those are that's all I have, but uh hopefully we can we can revisit those ideas when we get into Yep. Did you press F_ eight? Yeah. Okay, do we have a corporate colour scheme? I didn't know. Okay. Okay. Okay. Yeah. Mm-hmm. Mm. Mm. Great. Lots of good information there. It's a shame the cable wasn't just in the middle of the table, huh? Just um It takes a second, doesn't it? Mm-hmm. Mm-hmm. Mm. Mm-hmm. They're standard, aren't they? Yeah. Hmm. Mm-hmm. Mm-hmm. Mm-hmm. Mm-hmm. Mm-hmm. Hmm. Hmm. No. Yeah. Mm-hmm. Mm-hmm. Hmm. Yeah. Hmm. Hmm. Mm-hmm. Mm-hmm mm-hmm mm-hmm. Mm-hmm. It can't be curved. Okay. Uh question on can I ask a question? Okay. Can we uh power a light in this? Can we get a strong enough battery to power a light? Okay. So maybe one of the things we can just try and include is a really good battery. Well I mean I'm thinking it might be That for uh this to be a high-tech thing it's gonna have to have something high-tech about it and that's gonna take battery power, and to make that to make that a realistic goal I think one of the issues that will come up later is, can the battery power it? Illuminate the buttons. Yeah it glows. Well m I'm thinking along the lines of you're you're in the dark watching a D_V_D_ and you um you find the thing in the dark and you go like this, and that's what everybody does. Oh where's the volume button in the dark, and uh y you just touch it, or you just pick it up, and it lights up or something. Like a phone, yeah yeah. Whereas with phones, people charge them once a week. We're gonna need to put in a really good battery so people don't have to charge their r remote control every few days. But are people gonna wanna shake their movie controller? Right. Sure. Okay. Right. Mm-hmm. Okay, great. Okay. Okay. Yeah. Yeah. What's that? Yeah. Okay. Well I mean I'm thinking that what we need to do is have something that kind of unifies a lot of the different concepts, and if we think that what we are w our number one marketing motive is um the look and feel. So for the look and feel to seem coherent and not just sorta bits and bits and pieces of of concept and technology or or whatever or fashion, then we should have it kind of come back to one thing that we kind of all sorta can visualize. Um maybe what we could do is t th think about a concept which touches b back to the on the um the colour, you said company colour yellow. I mean if we think of something, like I was saying also lime and lemon you know, what can we come up with something where we we try and associate it with with like the series. We just come up with something like that we kind of use it as a theme to inspire the shapes and things. Yeah. Yeah. No no no not at all. It's more more just that we we think about like what it is we're trying to achieve, so and then we have one one sorta theme that we stick with. Do you know what I mean? Right, sure. Yeah. Um can we yeah like to and wha like do you have a Can you like yeah just t we can visualize it. Okay. Okay. Yep. Mm. What would it achieve? Well L_C_ well I'd when you used to mention the L_C_D_ I'd think I wonder what that would be about. And the th the thing I could see it helping with would be if it was somehow connected with um listings. So as you scroll through, 'cause we said we might have a jog dial, so as you scroll through your stations you can y it actually tells you what it is. Right, okay. Mm-hmm. Mm-hmm. Mm not real Mm-hmm. No. Mm mm. Well i I was just Yeah. Yeah. Yeah, sure. Um I've had kinetic things before, and the the the one issue we need to keep in mind with them is that you're committing the user to moving it, and watches yeah Sure, okay, right, okay. Support for it. I mean just it's just worth pointing out because like I've I've known I've known people to have kinetic watches that they wear all the time, and it's just like magic because it's always powered and there's no battery. I've also known people to have things like like a jewellery watch they wear from time to time, and they eventually just say it's just too much of a nuisance because I don't wear it all the time. Like remote control is similar, you're away on vacation, I dunno whatever, you something, and it just starts to get worn down. So we should think about Yeah. Yep. And this size here, I'd suggest this be small, like quite small. Um just a a lot of the um I mean one of the things running through my mind right now, I realise we're being efficient to wrap up the meeting and have lots of decisions made, um but we are leaning quite a bit to the side of being low-tech, rubber buttons plastic frame, it's almost like we're reproducing the same old remote control that's out there. Should we think about how we are actually getting this high-tech user friendly uh um theme like what is it that we're u we're using to to achieve those goals? Like Okay so so backlighting, that would be good. Yeah clear, that'd be Okay. Yeah sure. Yeah that'd be really good. Yeah. Sure. Yeah, yeah. Yeah. Sure. Yeah they they emanate a light through it. 'Kay. Yeah, mm-hmm. Um and then the other thing that we we're s we've committed ourselves to achieving is simplicity, and so I'm thinking maybe should we try and think about having something like um some kind of an innovative concept about how the um the volume and the channels are controlled, 'cause that's the main thing people will f wanna do. Could we use like a jog dial, like a nice just sort of round, somewhere on it where you just roll it? Or Yeah. Mm-hmm. Well why don't we do it like a mouse then? Yeah. Mm-hmm. Yeah. Yeah, sure. Mm. Yeah. But that's not a bad thing is it? Because when you think about it, the alternative is to go push the button. Jog dials are much easier than that. You just roll. Yeah. Yeah. Yeah like I mean if we if if we keep coming back to this board here, I wouldn't be surprised if we could take this idea, imagine that, I dunno, that it's within the shape of the hand, it's quite small I dunno. Yeah. It's small, and that we've got like the the l slogan somewhere like on the casing at the side, and that yeah well I mean isn't that what we just h said said we s just have to decide now? Yeah. And then like a jo And then like a jog dial somewhere that fits in with the shape of it like I dunno like here, in with the It would get bumped, it's doesn't really fit with your hand. Yeah. Or maybe just fit it in like down the middle here. A jog di Yeah. It's kind of yeah Yeah. Huh. Um Yeah I think the jog dial, you know it just after you drew that, what if it was flat and you just spun it, that'd be great. Yeah. Yep. Sure, yeah, yeah and materials we sorta said we'd do plastic and rubber, didn't we, and I think maybe we should try and stay away from just the big protruding rubber buttons, 'cause that'd just be so standard. Something a bit more flush, yeah, or maybe have rubber incorporated into the case as well, so that it has and also t plastic I've seen can get really textured, so you can get plastics that actually feel soft in your hand. They feel kind of like um, you get pens now and then that you'd think that they were rubber but they're not, they're actually just plastic that's textured, kind of a little bit like Okay. Okay.\\\\nIs it working? And so think of this concept. Um to research it I've um had a look on the the homepage again. It's provided me with more examples of um previously existing c remote controls. Um there's a wee bit of discussion about the other existing ones there, um so I've taken the um suggestions from them and tried to incorporate them into this um So then this we're looking for um suggestions on size th um size of control and the buttons, um the shape of the control, and whereabout the buttons should be located on the control. Um what I found from the research is that most the current controls are just basically big bricks with loads of buttons all over them. Um they're not very attractive to look at, and they're not very comfortable to hold, they're I just hold 'em like big bricks, and they're very easily lost. Um they tend to be very dark colours, so if there are shadowy places down the side of couches you can't really see them. Um the the controls themselves tend to use a very inconsistent colour scheme. Um for instance, the stand-by button isn't always red, uh it really should be. It's uh something the user then uh identify with. This is a red switch off, that's how it should be. Um I'm not sure if there's any other examples of that, but something to look out for. Um there's a problem that I've I've got couple of preferences for the the end control um I get 'em with the the red colour button for stand-by and s the other examples of that um The buttons should be large. They shouldn't be tiny little things like you get on some mobile phones. They should be easy to press, very comfortable. Um one of the examples given on the homepage was um there's an up and down volume button but both of them have a V_ on them, so the up volume button looks like it should be a down volume button, that's kinda confusing. Um should avoid s things like that. Um if the the corporate colour scheme allows it we should have a very bright colour so that it can be easily identified anywhere. Um obviously trying trying to avoid being tacky there, but it could um tie-in very easily with your your lime and lemon idea. Fantastic. Um any extra features we add beyond the basic ones should be m hidden, they shouldn't be on the um shouldn't be visible without something be opened or some sort of special extra effort. Um if we did decide to go for voice activation there sh should always be a button as alternative, possibly hidden in the the opened up section um making that something is wrong with it or with somebody's voice, maybe they got a cold or Um we should definitely avoid the big square block look. That's just wrong. And um we got an email uh from I think it's the the research department, and they've said th the voice control um can now talk back if you ask it a question. So it sh it could be good to have them um confirm any action you take and possibility. Right and these are problems I've had with it. Um I don't know where the slogan should go, or really what the slogan is. I think it's um, fashion into electronics. And we don't know how flexible the colour scheme is. I mean you say you wanted the the corporate colours, but they don't say you know if we can use any other colours at all or That's it. I think I'm cool. Right. Right. Um I think we could go for like um maybe not a p a fruit shape but a very sort of curvy type shape. Um you could have the same sort of texture and colour as a fruit. Um probably something that s sits in your hand comfortably, sort of feels right in your hand. See I'm I'd quite like a sort of uh snowman type shape. Um so a p sort of larger bit sits in your hand, and then you got maybe another bubble at the top for just any other function you need. Um something like that um you got two groups there um maybe it could fold up and you get a third group inside or uh you have volume controls about there. So I reckon it'd look quite nice if we just had um this here, had a sorta background yellow, and then have sort of a nice bold colour for the buttons. I think that might scare me. I think that'd probably scare me. You turn it on your control possessed s. Um Nah. Um well I think the advanced ones the the ones you don't usually use could be hid inside. B um I think the we had were fairly basic ones, they'd have to go on the the front somewhere. Um Yeah I think so yeah. Mm. Well, but then for um for skipping a large amount of channels you do have to uh to skip the channel button, the number part. Uh but Yeah. Mm.\\\\nOkay. Okay, well Okay. Okay we all ready to go? Well how um on the in this meeting then if we um I'll just just recap on the minutes from the last meeting. And we uh decided on decided on our our target group being fifteen to thirty five, and we decided that it was gonna be non-rechargeable battery-powered, that we're gonna group our audio-visual and other functions into into those categories, um. And I told you guys about the three new requirements about ignoring teletext, ignoring everything except the T_V_, and trying to incorporate the the uh corporate colour and slogan. Um so that was the last meeting. Is there anything have I forgotten anything? Is that everything? Okay. Um so if we have the three presentations, and then if you have anything to kind of that you know you're gonna want to discuss, maybe just make a note of it, and we'll have all the discussion at the end. That might be a better idea this time. And so if we start off uh with Andrew and then Craig and then David, if that's alright. Um and then after that we'll have to make some decisions about stuff, right. So if you wanna take this. Screwed in quite tightly. Uh what did uh how did we leave it with speech recognition now? We did we say we were gonna try maybe incorporate it but we hadn't made a definite decision on that? Right. Oh I should also point out that um the you know the kind of final objective of this meeting is to reach a decision on the concepts of the product. So um that's kind of the end result hopefully. Uh-huh. Hopefully appear in a wee second. Up there we go. Oh no. Oh right. Here we go. Okay. Mm-hmm. Aye a fair point definitely. Okay. Aye right. Uh-huh. Okay. Okay okay. Mm-hmm. Mm that's true, yeah. Mm 'kay. Great. Okay. Yeah. Ah. Okay. That's great. Uh-huh. Okay great. Um thank you for that. Uh Craig do you wanna uh plug yours in then? Mm. Not quite. Oh something coming now, yeah. There we go. Mm. Mm-hmm. Mm-hmm. Okay. I think it's yellow because like the website is yellow and there's a band at the bottom is yellow, so yellow, lemon, you know definitely food for thought there, but keep going and we'll discuss it after. Mm-hmm. Mm 'kay. Mm. Aye that's a good idea, yeah. Yeah. Okay. Okay. Yeah that that was very good, and uh now with David. I know it'd be handy, wouldn't it. Do y do you wanna sit in the the line of sight of this um Yeah. Mm-hmm. Hmm. Mm. Mm-hmm. We you couldn't have like plastic and rubber? Yeah. Mm 'kay. Okay. Mm-hmm. I'll clear one of these things for you. Just by moving it yeah. Mm. Mm-hmm. Mm. W yeah. Uh yeah yeah, I see. Yeah. I know what you mean yeah. Mm-hmm. Mm-hmm. Mm. Okay. Okay. Right. Okay. Right can I Yeah well yeah it's just I'm quite keen to get the discussion going with the time we've left so but yeah you c ask away. Mm. Why what kind of light do you want are you thinking of? Uh-huh. Yeah. Yeah yeah yeah. Like a phone yeah, like the backlight in a phone. Okay cool. Yeah. Mm. Mm. Okay. Okay. Right okay um well let's just go right back to the marketing ideas for a start, and just giving an id idea on the time, we've got about fifteen minutes to play with at most. So um yeah so just t to bear in mind that the ultimate goal of this meeting is to reach an decision on the the the concepts of the product. So back to your idea about um incorporating the idea of like fruit and veg, and the corporate colour, and things like that. Um I mean what does everybody think about Does anybody have any ideas of about how we can fit all that in together? I mean that's kind of the user interface type of thing, what are your thoughts on that? So maybe do y are we thinking something that like s could sit in your hand comfortably, or do you th you'd hold onto comfortably or So something quite curvy? Okay um right okay. Colour-wise I mean you made a re uh was it you or uh I can't remember who made the point about how if you've a nice bright colour you'll not lose it, was that Whose about how if you have a bright colour you'll not lose it so much. Um and when the corporate colour is yellow, I mean maybe we could think about about the colour of the whole product being yellow I don't know. Um And then obviously the uh the materials when it has anybody got like an overall picture in their mind about what what might work? That's all. Mm-hmm. Mm-hmm. Mm-hmm. Mm-hmm. Okay. Right. Oh you know like in circular in shape or Choice of material yeah. 'Cause I I I was kinda thinking about as well you know how you get these shock resistant mobile phones, and they're plastic but then also have like rubber on the outside, and it kinda feels it feels kind of warmer to the touch. It feels a bit more comfortable, and maybe we could incorporate plastic and rubber into it. And then then we could have curved shapes, 'cause wood or titanium, yeah, it's gonna have to be boxy and rectangular and I think we might be moving away from that you know so um Well I'm do we really want it in like the shape of a lemon or no I don't think we do either. Okay right well um so thoughts about the actual shape of the thing. A snowman shape? Uh-huh. That's quite a distinctive shape, that would be good wouldn't it. Yeah so yeah should we go with that? Do you wanna draw it on the board? Ooh that'd be good. Mm-hmm. So call it the snowman-shape trademark. Yeah that's cool. Um and I mean colour-wise what does everybody think? I think it is quite important to get yellow in there somewhere. I mean do you want the whole thing yellow, maybe like yellow and white do you want something Uh-huh. Okay cool. Um and also I mean how are we going to incorporate the slogan in? The fact that it talks to you, I mean it might be quite cool if when you first start using it it says, what is it, putting fashion into electronics or something, I dunno. Or when you like or if you turn it off or something if it can speak if it could actually say the slogan it might be a bit more powerful than just having it written on it somewhere. I d I d any thoughts on that at all? I know. Um unless an a I mean if you also would that work if we wanted to incorporate um an L_C_D_ display, where would we put that? Would we put that on the inside or It's bound to increase the cost of it a lot, I would've thought. Yeah. Mm oh yeah that's true. Yeah. So so no need for an L_C_D_ display? I think that would make it very complex. Yeah. Yeah. I don't know if there is really, no um I would say no need for a talk-back. Uh does anybody disagree with that? No? Easy. Okay um right so you're gonna have the three different sets of of functionalities, um I mean do you wanna group them into s head of the snowman, body of the snowman, inside of the snowman, is that what you're thinking? Okay. Okay right um what else do you need to talk about? So I'm just gonna um pop this in here 'cause I have a slide about decision making which I'd forgotten about. Oh sh God we've got five minutes um okay uh back we go. Um energy what do you think that's suggesting we're how we're powering the thing? I really like the idea of this kinetic thing where you'd have the back-up of the battery, but have have kinetic power, I mean what does anybody think about that? Okay. Mm-hmm. Yeah. Yeah. Well I suppose that if you're if you're away and you're not using it, then you're not using any power either. So you'd have the battery as the kind of to keep it ticking over idea I'm really sorry we're gonna have to wrap up quite quickly, we don't have as much time as I thought. Um so I think that's what energy is referring to here. Chip on print, is that that's an industrial design thing, is it David? Okay um as for the case, kind of discussed that Yeah I know we're gonna have like rubber buttons that feel kind of Okay. Mm-hmm. Mm 'kay. Could have things like backlighting the buttons and stuff like that. Aye that would be a good idea. S so like cur slightly transparent case, so it's yellow, like tinted yellow, but you can maybe see through it. Is that what you mean? Okay. Lights. Okay. Mm. Yeah. Yeah if you are holding it in your hand you could you could do that, couldn't you? If you're holding it in your hand you could Do you think? Okay. Mm. Yeah okay okay um Yeah. Okay. Okay. Just Okay um right well wouldn't it we do need to make a decision on whether we want to incorporate a jog dial in nice and quickly. Um I'm all for them actually, I think they're quite you know th very quick to m to use. So does anybody oppose the idea of of incorporating one into the design at all? No. And the other thing was um can we think of any way of getting the slogan into this thing? Uh-huh. Uh-huh ooh okay, we really gotta wrap up so yeah. Okay well if we can do that, great. Yeah okay. Yeah let's let's try and get the slogan on there um, and Mm. Okay. Right I'm gonna have to I'm really gonna have to hurry you on here 'cause we're we're actually over time. Um is there anything anybody's unsure about? Just for in closing just the next meeting's gonna be in thirty minutes, and so you can see in the screen here what each of you are gonna hopefully be doing, uh I know that the designers are gonna be working with Play-doh on that. So um that'll be that'll be good. Um and I'll get the the minutes up as soon as possible. Anything at all you think we haven't discussed that we need to? Is everybody kind of happy about what they're gonna be doing? Okay. That's kind of a design thing that you guys can can discuss, yeah. Okay. Yeah. To make something flush with the case? Okay right. Okay. Sp kinda grippy? Okay. Okay I'm gonna have to I'm gonna have to call this to a close 'cause we're way over time. So um that's really good, like we've s had much to talk about that um pretty much run out of time to do so. So off you go and design stuff wooh. Yeah quite jealous actually.\\\\n'S to do now is to decide how to fulfil what your stuff is, so in that sense so it does kind of make sense, yeah. Yep. Yep. Yep. Mm-hmm. No. Yep. Mm-hmm. Yep. It's probably not sending. Yeah. Yep, there it is. And the Play-Doh 's yellow. Cool. Mm-hmm. Mm 'kay um. Oops. Yeah okay. Let me just get this going first. Ah there it is. 'Kay, that should be it. Okay um I guess the same thing again, I started with something very basic. So just so you guys have some idea of what's involved in my process, um and then you can just work through it and we 'll either modify it or start from scratch um depending on what your needs are. Um the components are exactly the same. Um I think, like what you guys said, um the most input that's needed is basically in the user interface. The rest of the components um they do have an impact in terms of cost and complexity. Um like you said time to market was a problem, um and how many components are physically in there in cost. And the power is basically a factor of that. Um and the lower components, the power, the logic, the transmitter, and the infrared, um they affect you in terms of the size of your device, um and that would have some inte impact on how y I think more how you hold rather than um the actual use using the the remote control because um like we've said we've defined, like we only want the basic things that to be visible, and the rest of them we try to hide. So um you know it's just a matter of working out space. So I guess three things, um cost, um complexity, and the size. These are the three things that um will have an impact on you. So just go through it in the components. Um these are the options that are available to you, um I'm not very sure about the voice thing 'cause I got another email and it was in fact quite sketchy on what n the voice options are. Um it said it could talk to you, but it never said anything about being able to listen. I it said something about a sensor but never clarified that. So maybe if you well I could see the other email that they sent you, um 'cause they got back to me with like different requirements, or different offerings of what components availa Okay so your basic components are buttons, okay and you have a wheel available, like a mouse scroll wheel, okay there's an L_C_D_ display, um I think these are quite standard things. No um they're well in the sense that these are all the options available for you. I'll explain to you the complexity and the cost thing again a bit later. Okay um then there's um how the case actually looks. It can actually be flat or it can be curved, um and then the different types of materials that you can use, um I don't think you can use them in a combination, um but um I could check back for you, but I don't think you can actually use them in a combination. Um I think plastic and rubber would be fine, but plastic, rubber, and wood, I wasn't I'm not very sure about the titanium. They had some restrictions on using the rubber and the titanium. Um the rubber was a restriction on the kind of power source you could use, but the titanium had a different kind of things on the shape of the thing, so I think that there is some restriction on um I think you could probably group plastic and rubber together, wood and titanium, but you know it might be easier from a cost perspective and a complexity just to use one. You know as opposed to two. Um and the other components are logic chips, um again I'll I'll go back to the component chips. The com how complex or how easy the logic is, it depends on how many functions you have on the on the unit um and that impacts cost. Um I don't think the logic chip has a issue about size 'cause they should be about the same size. Power consumption should be about the same. Um I think the main impact is complexity, um and the other thing is um the power options. Um the first one is a standard battery. Okay the second one I think is more of a gimmick then actually a useable thing, it's a wind-up you know, a crank. Yeah but that that might be something I think that's more of a look and feel decision because I don't think you can have one power source if you're using the alternative power sources. I think whatever it is you still need a battery 'cause I don't think anybody wants to keep doing one thing. Okay the other ones are a solar powered cell, which may not be a great idea in Europe or any country that has seasons 'cause half the year you'd be dead. So like what I said, you probably need like a battery and something else. Um and the kinetic one I guess for me is the most interesting one because it's movement and people like to fiddle with their and it's a nice sales gimmick I think. From a marketing gimmick it it's a technology thing, it's a shake it it doesn't work, shake it, knock it or something. You know you know you have you had those balls, you know those stress balls where you bounce the ball and it and it lights up and it goes, you know that might be a gimmick combined with rubber. You know just to if you get frustrated wi remote control you can throw it, kind of you know just uh you know um so. Um okay my from my role, I don't think that personal preferences but role preferences, I think um something comfortable to hold, um small and slim I guess that's more in the sense of small and slim in terms of comfortable not so small you can't, you know like a phone or something, too small phone. Um and the other thing is from a production point of view um the less components we use and the simpler the components means you reduce your cost and you increase your profit. Um and also the time to market and the complexity of developing designing and debugging it um so. Um okay let me just go back and talk about some of the restrictions. Um The user interface restrictions basically means that if you use more complicated features, like the buttons are standard okay, the L_C_D_ panel and the scroll wheel you need more complicated logic. Um the case okay with a rubber case you can't have the solar panels. Okay with the titanium case, let me just check that um, titanium case can't be curved, it has to be square. Okay um there's no restriction on the plastic, and it can't be curved on the wood. So that's again, I don't think you can use them in a combination, um especially the titanium I I suspect they're very fixed to a particular need. So um mixing them may not be a good idea um yep. That's it. Um I think we could because the L_C_D_ panel requires power, and the L_C_D_ is a form of a light so that Are you thinking are you thinking of of a light in the sense of um a light light, or a light in the sense of it glows kind of you know Frankenstein, it's alive. Okay. Okay. Okay. Um that's why I think the option of the the kinetic thing which basically means as long as you shake it like a watch, like an automatic watch um it's probably sensitive enough when you fiddle it. So you could trigger that to a light, like I said the bouncing ball thing, or you could trigger that to use that to power the light as opposed to so when they pick it up, right, and then that that sorta triggers the glowingness. I think he made that. Is there a particular shape that you're interested in? Like does marketing have any research on does it need to be long? Does it need with a square thing wha Yeah 'cause that will n help narrow down the choice of Like fruit. I'm thinking fruits in my head, but that's tacky. Do we need an L_C_D_ display? What what's the functionality of that? Yeah but the question is what are we using it what would we what would we achieve from it? Putting in lights is cheap but putting in an L_C_D_ panel just to make it glow is a bit of a Mm-hmm. I think that will be a problem because we don't have an input device to get the listings into it, so um it's a bit nuts to get the Monday Tuesday Wednesday you know. Um I I'm not saying there's no need for an L_C_D_ display, but um it's what's what what would it tell the user, 'cause the L_C_D_ tends to be an output as uh as opposed to an input so um does the remote control need to talk back to the user? We have the option of the speaker as well the sa the same thing goes for the speaker, is there a need for the remote control to to talk back? Um You could put a game on it. When the T_V_ dies you can play with the remote control. Where would you physically position the buttons? Um I think that that has some impact on on on many things. Um maybe you wanna draw onto the Yep. No, like I said we have a h hybrid kind of thing, so it's not gonna charge the battery, it's just Yeah. Yep. Yes yes. Or even a clear case. Um you know a a glowing a a glowing yellow type case where the yellow is showable, but in the dark it sort of, it's alive. Um in in a slight subtle way. Yeah yeah. Yeah. Or or there might be a light running through it like a mouse. You know you have cordless mice and they don't eat that much power right. So the power the battery in that sense, maybe you have one or two stratig strategically placed lights that sort of Yeah but because the case is transparent so it gives it a little bit of a glow, doesn't make it freaky. The question is when you're rolling it, how do you wanna roll it? Do you want 'em to roll it like that? Do you want 'em to roll it like that? 'Cause in a mouse your hand's in a position to roll it, whereas the other thing about having it jog dial this way, it tends to get moved accidentally. That's a very unnatural motion to yeah. Can you imagine you have to scroll a lot. Um it might work for volume, and maybe some of the brightness controls and stuff like that, but not for channels right. If you have a Telewest box you've got like, you don't have to buy all the channels, you've about fifty channels, can you imagine trying to. Um and I don't think having that you know too quick too slow kin it's confusing to the I dunno. But users tend to tend to want to use that and once they lose out on the user experience they're like Because that's becomes the most accessible thing in front of Yeah. So you wanna expand the shape of the That that might have one problem in terms of um in terms of whether you're left handed or you're right handed you might be locking yourself in. Could I just could I just jump in and suggest something quickly? Um I think one thing would be the jog dial 'cause that's gonna have quite a big impact on the thing um Yeah that's what I was thinking the a slide, because then you you don't have to put the hand. I think incorporating a logo is quite straight forward. There's lots of space for it um Yeah but it's also a a marketing and a function Yeah. Feel like fruit. Fruits kids. No like Yeah yeah. Yeah yeah kinda like that yeah. Play-doh time. You got to choose first. No, we're kidding. Okay, can I just swipe your power cable, I don't think it matters. Okay lemme okay, I'm gonna pull everybody out first and then put in whoever needs to be left. It's you. Argh. This is a real hassle and a oops. I'm gonna take the microphones, 'cause it's too lazy t take them off again. Cool.\""
            ],
            "application/vnd.google.colaboratory.intrinsic+json": {
              "type": "string"
            }
          },
          "metadata": {},
          "execution_count": 46
        }
      ]
    },
    {
      "cell_type": "code",
      "source": [
        "# total characters in the file\n",
        "len(FileContent)\n",
        ""
      ],
      "metadata": {
        "colab": {
          "base_uri": "https://localhost:8080/"
        },
        "id": "yG5rkKehFxi3",
        "outputId": "0bfca48c-e640-4b02-d068-fd99fe2621ca"
      },
      "execution_count": 47,
      "outputs": [
        {
          "output_type": "execute_result",
          "data": {
            "text/plain": [
              "39722"
            ]
          },
          "metadata": {},
          "execution_count": 47
        }
      ]
    },
    {
      "cell_type": "code",
      "source": [
        "# import and initialize the tokenizer and model from the checkpoint\n",
        "from transformers import AutoTokenizer, AutoModelForSeq2SeqLM\n",
        "\n",
        "checkpoint = \"sshleifer/distilbart-cnn-12-6\"\n",
        "\n",
        "tokenizer = AutoTokenizer.from_pretrained(checkpoint)\n",
        "model = AutoModelForSeq2SeqLM.from_pretrained(checkpoint)"
      ],
      "metadata": {
        "colab": {
          "base_uri": "https://localhost:8080/",
          "height": 177,
          "referenced_widgets": [
            "7703f074884d4899b3767ab08f17afa8",
            "410e858e017b459e8a7d7c5e9628c8f3",
            "d7e0ad361fcb45eb82daf3b2bd5e4130",
            "1aae0469f522434681efde4bc2add705",
            "569101c5e0ef4f43b30997431fbb0408",
            "a6f50ca1cc1444eca23a9fb17fbfb49c",
            "e1e8bb5277f54a429e4b5c36f95ee76e",
            "57651cf9c2474e74860784581ca497ab",
            "2f61fb0f6ced469ebc97fa0e76fdaf15",
            "35fe78b3c3df4e7480e17c2bcffbd1f3",
            "51b5269b89a94309a97738356c17ae44",
            "1b6a8c32fe56403c9ced9008dd2e7a39",
            "ac46abdc717f4d9e869d427955d2295c",
            "6108f3e2f0fa48809a93dc99066d4ba0",
            "225c0266a86343b8a701f82243997b58",
            "c14b81840d0d4749a2306cae0f7e31bc",
            "3f41182156f84f269cf0c2a464ccd03f",
            "26da86a5dd0b4e0881091fcc1285227d",
            "69f5341129ee43e69f9f1f88502c8e4b",
            "c390b2d66bde4a8faa3783371f9554d3",
            "e112ef4a839a44698e88ee5c21175a2f",
            "182a9f89aa5d4940974ae8f532e963a1",
            "d5e981b272bb4935ac2be2053b04dc3f",
            "28cab0e6180440cba4131a1fc83cf0ed",
            "3c295a14515e4cdeae28249fe726a133",
            "2391cd35422b4b28bb79a800c2b10668",
            "9f1bb4f610f44af78bd1e0ec97ac5a64",
            "31c9085bb3764b299fe19ac87ecc6d8a",
            "6d7e1c23121f4b46bbdc52e1d2c792f7",
            "3484be2be9af4b0c8f27ef2ba0c2391a",
            "98a3abf9f0e8422a966f2b6609af57d2",
            "bb0bd342a4874731aa9c12ec0f1e4974",
            "650378cd063f4ca39c9f626ba6555b5e",
            "98f4b6cb17bc47feae1b8d9a88c35328",
            "880219675bc246cb9b0117ae82c06424",
            "520d1a73fe63488b9a1109a624ccc5f7",
            "0c1b3989e7c94773a05b7fa44eefe921",
            "1c8f661041b442358ecbd3a730844526",
            "79b7df3b16294847aed07d8499566bfd",
            "ad74b4f637f74581bb32f7e1a2e3e726",
            "1e167ace02d847a9aafed47147e9c639",
            "537ddbf517c045d2bcf7d92f9173dcc5",
            "0889f71b3928489284d9ec03b4e283ea",
            "d46197cf47fb48409d88ef55be32a230",
            "dd2579201cfc444dbfd8b6f62b6bdfa7",
            "a03d7ddb953045fb95594233c6fff838",
            "ca290be5623543399317fc2857b08456",
            "f7d57e396b174b6fa95b0fc463565ffa",
            "eb8f97fc8ab94b2c9878c8900663a41b",
            "cd4c4b50cd3e4511b6b9994f52c13e93",
            "2e4894729f344eb8873637491725c07a",
            "2f6e2b4e014e478e92914cd06b71d555",
            "eda8a0af2ce04ddf8425be422a496af7",
            "8eed0eec3bbb4fc4ba96529db72322a4",
            "614115420a4c4fe0b99440ac93a1527b"
          ]
        },
        "id": "JIzNxl-0F0d0",
        "outputId": "9dce7ef0-8168-47b2-f113-de2ffeef141f"
      },
      "execution_count": 48,
      "outputs": [
        {
          "output_type": "display_data",
          "data": {
            "text/plain": [
              "tokenizer_config.json:   0%|          | 0.00/26.0 [00:00<?, ?B/s]"
            ],
            "application/vnd.jupyter.widget-view+json": {
              "version_major": 2,
              "version_minor": 0,
              "model_id": "7703f074884d4899b3767ab08f17afa8"
            }
          },
          "metadata": {}
        },
        {
          "output_type": "display_data",
          "data": {
            "text/plain": [
              "config.json:   0%|          | 0.00/1.80k [00:00<?, ?B/s]"
            ],
            "application/vnd.jupyter.widget-view+json": {
              "version_major": 2,
              "version_minor": 0,
              "model_id": "1b6a8c32fe56403c9ced9008dd2e7a39"
            }
          },
          "metadata": {}
        },
        {
          "output_type": "display_data",
          "data": {
            "text/plain": [
              "vocab.json:   0%|          | 0.00/899k [00:00<?, ?B/s]"
            ],
            "application/vnd.jupyter.widget-view+json": {
              "version_major": 2,
              "version_minor": 0,
              "model_id": "d5e981b272bb4935ac2be2053b04dc3f"
            }
          },
          "metadata": {}
        },
        {
          "output_type": "display_data",
          "data": {
            "text/plain": [
              "merges.txt:   0%|          | 0.00/456k [00:00<?, ?B/s]"
            ],
            "application/vnd.jupyter.widget-view+json": {
              "version_major": 2,
              "version_minor": 0,
              "model_id": "98f4b6cb17bc47feae1b8d9a88c35328"
            }
          },
          "metadata": {}
        },
        {
          "output_type": "display_data",
          "data": {
            "text/plain": [
              "pytorch_model.bin:   0%|          | 0.00/1.22G [00:00<?, ?B/s]"
            ],
            "application/vnd.jupyter.widget-view+json": {
              "version_major": 2,
              "version_minor": 0,
              "model_id": "dd2579201cfc444dbfd8b6f62b6bdfa7"
            }
          },
          "metadata": {}
        }
      ]
    },
    {
      "cell_type": "code",
      "source": [
        "\n",
        "# max tokens including the special tokens\n",
        "tokenizer.model_max_length"
      ],
      "metadata": {
        "colab": {
          "base_uri": "https://localhost:8080/"
        },
        "id": "3eXLV-K7F4vS",
        "outputId": "4648df32-1404-4445-eb1b-7dac4a9e11ca"
      },
      "execution_count": 49,
      "outputs": [
        {
          "output_type": "execute_result",
          "data": {
            "text/plain": [
              "1024"
            ]
          },
          "metadata": {},
          "execution_count": 49
        }
      ]
    },
    {
      "cell_type": "code",
      "source": [
        "# max tokens excluding the special tokens\n",
        "tokenizer.max_len_single_sentence"
      ],
      "metadata": {
        "colab": {
          "base_uri": "https://localhost:8080/"
        },
        "id": "sU6Eo3N3F954",
        "outputId": "83888712-521a-4cb9-a199-9cb1626fc656"
      },
      "execution_count": 50,
      "outputs": [
        {
          "output_type": "execute_result",
          "data": {
            "text/plain": [
              "1022"
            ]
          },
          "metadata": {},
          "execution_count": 50
        }
      ]
    },
    {
      "cell_type": "code",
      "source": [
        "# number of special tokens\n",
        "tokenizer.num_special_tokens_to_add()\n",
        ""
      ],
      "metadata": {
        "colab": {
          "base_uri": "https://localhost:8080/"
        },
        "id": "F5PPyqlNMnVh",
        "outputId": "23d9e9e8-357a-467f-ae4b-d77a2dd0830b"
      },
      "execution_count": 51,
      "outputs": [
        {
          "output_type": "execute_result",
          "data": {
            "text/plain": [
              "2"
            ]
          },
          "metadata": {},
          "execution_count": 51
        }
      ]
    },
    {
      "cell_type": "code",
      "source": [
        "# extract the sentences from the document\n",
        "import nltk\n",
        "nltk.download('punkt')\n",
        "sentences = nltk.tokenize.sent_tokenize(FileContent)"
      ],
      "metadata": {
        "colab": {
          "base_uri": "https://localhost:8080/"
        },
        "id": "xUNvvOFbF_4Y",
        "outputId": "7d82b151-5cf3-4db6-eeb3-346318bfb656"
      },
      "execution_count": 52,
      "outputs": [
        {
          "output_type": "stream",
          "name": "stderr",
          "text": [
            "[nltk_data] Downloading package punkt to /root/nltk_data...\n",
            "[nltk_data]   Package punkt is already up-to-date!\n"
          ]
        }
      ]
    },
    {
      "cell_type": "code",
      "source": [
        "# find the max tokens in the longest sentence\n",
        "max([len(tokenizer.tokenize(sentence)) for sentence in sentences])\n",
        ""
      ],
      "metadata": {
        "colab": {
          "base_uri": "https://localhost:8080/"
        },
        "id": "KiKwJC87GCbh",
        "outputId": "3ee9d56f-b135-43dc-d347-c85b51d79724"
      },
      "execution_count": 53,
      "outputs": [
        {
          "output_type": "execute_result",
          "data": {
            "text/plain": [
              "93"
            ]
          },
          "metadata": {},
          "execution_count": 53
        }
      ]
    },
    {
      "cell_type": "code",
      "source": [
        "# initialize\n",
        "length = 0\n",
        "chunk = \"\"\n",
        "chunks = []\n",
        "count = -1\n",
        "for sentence in sentences:\n",
        "  count += 1\n",
        "  combined_length = len(tokenizer.tokenize(sentence)) + length # add the no. of sentence tokens to the length counter\n",
        "\n",
        "  if combined_length  <= tokenizer.max_len_single_sentence: # if it doesn't exceed\n",
        "    chunk += sentence + \" \" # add the sentence to the chunk\n",
        "    length = combined_length # update the length counter\n",
        "\n",
        "    # if it is the last sentence\n",
        "    if count == len(sentences) - 1:\n",
        "      chunks.append(chunk.strip()) # save the chunk\n",
        "\n",
        "  else:\n",
        "    chunks.append(chunk.strip()) # save the chunk\n",
        "\n",
        "    # reset\n",
        "    length = 0\n",
        "    chunk = \"\"\n",
        "\n",
        "    # take care of the overflow sentence\n",
        "    chunk += sentence + \" \"\n",
        "    length = len(tokenizer.tokenize(sentence))\n",
        "len(chunks)"
      ],
      "metadata": {
        "colab": {
          "base_uri": "https://localhost:8080/"
        },
        "id": "RFw9JFoiGHVn",
        "outputId": "b8da8f61-c6d1-45e2-d664-10f5ce7991cd"
      },
      "execution_count": 54,
      "outputs": [
        {
          "output_type": "execute_result",
          "data": {
            "text/plain": [
              "10"
            ]
          },
          "metadata": {},
          "execution_count": 54
        }
      ]
    },
    {
      "cell_type": "code",
      "source": [
        "[len(tokenizer.tokenize(c)) for c in chunks]"
      ],
      "metadata": {
        "colab": {
          "base_uri": "https://localhost:8080/"
        },
        "id": "Ci5-3uzGGJpr",
        "outputId": "ccf948f8-b91d-45c9-cdac-5425f54dd9c5"
      },
      "execution_count": 55,
      "outputs": [
        {
          "output_type": "execute_result",
          "data": {
            "text/plain": [
              "[1014, 984, 960, 1005, 1016, 994, 991, 1005, 1017, 576]"
            ]
          },
          "metadata": {},
          "execution_count": 55
        }
      ]
    },
    {
      "cell_type": "code",
      "source": [
        "[len(tokenizer(c).input_ids) for c in chunks]"
      ],
      "metadata": {
        "colab": {
          "base_uri": "https://localhost:8080/"
        },
        "id": "fJ9M4mdqGWvK",
        "outputId": "0e6de53a-32b8-4f83-b119-ed89d7a758b0"
      },
      "execution_count": 56,
      "outputs": [
        {
          "output_type": "execute_result",
          "data": {
            "text/plain": [
              "[1016, 986, 962, 1007, 1018, 996, 993, 1007, 1019, 578]"
            ]
          },
          "metadata": {},
          "execution_count": 56
        }
      ]
    },
    {
      "cell_type": "code",
      "source": [
        "sum([len(tokenizer(c).input_ids) for c in chunks])"
      ],
      "metadata": {
        "colab": {
          "base_uri": "https://localhost:8080/"
        },
        "id": "pYGIODpdGZJo",
        "outputId": "c3ce510b-3722-4376-b5ac-c1f9c5c3b9ef"
      },
      "execution_count": 57,
      "outputs": [
        {
          "output_type": "execute_result",
          "data": {
            "text/plain": [
              "9582"
            ]
          },
          "metadata": {},
          "execution_count": 57
        }
      ]
    },
    {
      "cell_type": "code",
      "source": [
        "len(tokenizer(FileContent).input_ids)"
      ],
      "metadata": {
        "colab": {
          "base_uri": "https://localhost:8080/"
        },
        "id": "ma3xEqXyNutW",
        "outputId": "8676849f-6762-4ddd-a430-6d9a727b0d73"
      },
      "execution_count": 58,
      "outputs": [
        {
          "output_type": "stream",
          "name": "stderr",
          "text": [
            "Token indices sequence length is longer than the specified maximum sequence length for this model (9564 > 1024). Running this sequence through the model will result in indexing errors\n"
          ]
        },
        {
          "output_type": "execute_result",
          "data": {
            "text/plain": [
              "9564"
            ]
          },
          "metadata": {},
          "execution_count": 58
        }
      ]
    },
    {
      "cell_type": "code",
      "source": [
        "sum([len(tokenizer.tokenize(c)) for c in chunks])"
      ],
      "metadata": {
        "colab": {
          "base_uri": "https://localhost:8080/"
        },
        "id": "vNw27FeQNwQI",
        "outputId": "f7785ce3-31d2-4b01-d1f4-0c99c57a79c6"
      },
      "execution_count": 59,
      "outputs": [
        {
          "output_type": "execute_result",
          "data": {
            "text/plain": [
              "9562"
            ]
          },
          "metadata": {},
          "execution_count": 59
        }
      ]
    },
    {
      "cell_type": "code",
      "source": [
        "len(tokenizer.tokenize(FileContent))"
      ],
      "metadata": {
        "colab": {
          "base_uri": "https://localhost:8080/"
        },
        "id": "f9H0A64INxcx",
        "outputId": "2e73e274-5d51-420d-f116-95f9eeede82f"
      },
      "execution_count": 60,
      "outputs": [
        {
          "output_type": "execute_result",
          "data": {
            "text/plain": [
              "9562"
            ]
          },
          "metadata": {},
          "execution_count": 60
        }
      ]
    },
    {
      "cell_type": "code",
      "source": [
        "# inputs to the model\n",
        "inputs = [tokenizer(chunk, return_tensors=\"pt\") for chunk in chunks]"
      ],
      "metadata": {
        "id": "u9l4f03LNygd"
      },
      "execution_count": 61,
      "outputs": []
    },
    {
      "cell_type": "code",
      "source": [
        "for input in inputs:\n",
        "  output = model.generate(**input)\n",
        "  print(tokenizer.decode(*output, skip_special_tokens=True))"
      ],
      "metadata": {
        "colab": {
          "base_uri": "https://localhost:8080/"
        },
        "id": "91SuIJ0XNz1n",
        "outputId": "729f5a45-a79c-41c4-b339-b1fa260f247c"
      },
      "execution_count": 62,
      "outputs": [
        {
          "output_type": "stream",
          "name": "stdout",
          "text": [
            " Market research shows that TV remote control has a fancy look and feel, not a functional look or or feel, the number one thing that was found was that television remote control was not functional. Number two was that it be innovative without a adding unnecessary functional bits to it, and third priority is that it has to be user friendly while still having technology.\n",
            " Style is number one thing in the in the market of who we're selling to. Innovative design technology's also a must in that it's seen it'd be seen to be uh cutting edge, but ease of use t has to be insured throughout. And then at the end there are vibrant natural colours.\n",
            " We need to have something that unifies a lot of the different concepts, and if we think that what we are w our number one marketing motive is the look and feel. We are leaning quite a bit to the side of being low-tech, rubber buttons plastic frame, it's almost like we're reproducing the remote control that's out there. We're gonna need to put in a really good battery so people don't have to charge their r remote control every few days.\n",
            " Could we use like a jog dial, like a nice just sort of round, round, somewhere on it where you just roll it? Or why don't we do it like a mouse then? Mm-hmm. Jog dials are much easier than that, the alternative is to go push the button.\n",
            " Andrew and Craig and David lead the meeting to discuss the product. Andrew says the final objective of the meeting is to reach a decision on the concepts of the product and the result hopefully appear in a second. Craig says he'd quite like a sort of snowman type shape. Andrew: 'I think we could go for like a p a fruit shape'\n",
            " Mm-hmm. I think it's yellow because like the website is yellow and there's a band at the bottom is yellow, so yellow, lemon, you know definitely food for thought there, but keep going and we'll discuss it after. Mm 'kay. Do y do you want to sit in the the line of sight of this um Yeah. Do you want something like s could sit in your hand comfortably, or do you th you'd hold onto comfortably or So something quite curvy? Mm. Okay. A snowman shape? Uh-huh. That's quite a distinctive shape.\n",
            " Or when you like or if you turn it off or something if it can speak if it could actually say the slogan it might be a bit more powerful than just having it written on it somewhere. I d I d any thoughts on that at all? I don't know if there is really, no um I would say no need for a talk-back. Or if we wanted to incorporate an L_C_D_ display, where would we put that on the inside or It's bound to increase the cost of it a lot, I would've thought. I think that would make it very complex. So so no. need for an L.C_DD_ display? I think\n",
            " The most input that's needed is basically in the user interface. The rest of the components do have an impact in terms of cost and complexity. The power is basically a factor of that. And the lower components, the power, the logic, the transmitter, and the infrared, um they affect you. The case can actually be flat or it can be curved, and then the different types of materials that you can use.\n",
            " The kinetic one I guess for me is the most interesting one because it's movement and people like to fiddle with their and it's a nice sales gimmick I think. From a marketing gimmick it it it is a technology thing. The less components we use and the simpler the components means you reduce your cost and you increase your profit. Um and the other thing is from a production point of view.\n",
            " The case is transparent so it gives it a little bit of a glow, doesn't make it freaky. Or or there might be a light running through it like a mouse. I think incorporating a logo is quite straight forward. There's lots of space for it um Yeah but it's also a marketing and a function.\n"
          ]
        }
      ]
    },
    {
      "cell_type": "code",
      "source": [],
      "metadata": {
        "id": "lN6kFdZfN1cS"
      },
      "execution_count": null,
      "outputs": []
    }
  ]
}